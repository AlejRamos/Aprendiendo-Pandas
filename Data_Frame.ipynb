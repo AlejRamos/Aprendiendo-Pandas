{
  "nbformat": 4,
  "nbformat_minor": 0,
  "metadata": {
    "colab": {
      "name": "Data_Frame",
      "provenance": [],
      "collapsed_sections": [],
      "authorship_tag": "ABX9TyPRqR0H/bnGewlCaOsyPFMl",
      "include_colab_link": true
    },
    "kernelspec": {
      "name": "python3",
      "display_name": "Python 3"
    },
    "language_info": {
      "name": "python"
    }
  },
  "cells": [
    {
      "cell_type": "markdown",
      "metadata": {
        "id": "view-in-github",
        "colab_type": "text"
      },
      "source": [
        "<a href=\"https://colab.research.google.com/github/AlejRamos/Aprendiendo-Pandas/blob/main/Data_Frame.ipynb\" target=\"_parent\"><img src=\"https://colab.research.google.com/assets/colab-badge.svg\" alt=\"Open In Colab\"/></a>"
      ]
    },
    {
      "cell_type": "code",
      "execution_count": 1,
      "metadata": {
        "colab": {
          "base_uri": "https://localhost:8080/",
          "height": 36
        },
        "id": "p6T_nS0wpkh7",
        "outputId": "bd24c3f8-173a-4381-95df-3ed44f0790cf"
      },
      "outputs": [
        {
          "output_type": "execute_result",
          "data": {
            "text/plain": [
              "'url = https://pandas.pydata.org/pandas-docs/dev/user_guide/dsintro.html'"
            ],
            "application/vnd.google.colaboratory.intrinsic+json": {
              "type": "string"
            }
          },
          "metadata": {},
          "execution_count": 1
        }
      ],
      "source": [
        "import pandas as pd\n",
        "import numpy as np\n",
        "\"\"\"url = https://pandas.pydata.org/pandas-docs/dev/user_guide/dsintro.html\"\"\""
      ]
    },
    {
      "cell_type": "code",
      "source": [
        "\"\"\"\n",
        "Data Frame\n",
        "De diccionario de series o dicccionarios\n",
        "El índice resultante será la unión de los índices de las diversas series. \n",
        "Si hay algún dict anidado, estos se convertirán primero en series. \n",
        "Si no se pasan columnas, las columnas serán la lista ordenada de las claves dict.\n",
        "\"\"\"\n",
        "\n",
        "d={\"columna 1\":pd.Series([1.0,2.0,3.0],index=[\"a\",\"b\",\"c\"]), \n",
        "   \"columna 2\":pd.Series([1.0,2.0,3.0,4.0], index=[\"a\",\"b\",\"c\",\"d\"])}\n",
        "\n",
        "df = pd.DataFrame(d)\n",
        "df\n"
      ],
      "metadata": {
        "colab": {
          "base_uri": "https://localhost:8080/",
          "height": 175
        },
        "id": "y4mW2ZusqM3T",
        "outputId": "744a9109-242c-401b-a962-51050afaa6d1"
      },
      "execution_count": null,
      "outputs": [
        {
          "output_type": "execute_result",
          "data": {
            "text/plain": [
              "   columna 1  columna 2\n",
              "a        1.0        1.0\n",
              "b        2.0        2.0\n",
              "c        3.0        3.0\n",
              "d        NaN        4.0"
            ],
            "text/html": [
              "\n",
              "  <div id=\"df-50325f83-0f4a-46c2-a5a5-e44ec3e9f975\">\n",
              "    <div class=\"colab-df-container\">\n",
              "      <div>\n",
              "<style scoped>\n",
              "    .dataframe tbody tr th:only-of-type {\n",
              "        vertical-align: middle;\n",
              "    }\n",
              "\n",
              "    .dataframe tbody tr th {\n",
              "        vertical-align: top;\n",
              "    }\n",
              "\n",
              "    .dataframe thead th {\n",
              "        text-align: right;\n",
              "    }\n",
              "</style>\n",
              "<table border=\"1\" class=\"dataframe\">\n",
              "  <thead>\n",
              "    <tr style=\"text-align: right;\">\n",
              "      <th></th>\n",
              "      <th>columna 1</th>\n",
              "      <th>columna 2</th>\n",
              "    </tr>\n",
              "  </thead>\n",
              "  <tbody>\n",
              "    <tr>\n",
              "      <th>a</th>\n",
              "      <td>1.0</td>\n",
              "      <td>1.0</td>\n",
              "    </tr>\n",
              "    <tr>\n",
              "      <th>b</th>\n",
              "      <td>2.0</td>\n",
              "      <td>2.0</td>\n",
              "    </tr>\n",
              "    <tr>\n",
              "      <th>c</th>\n",
              "      <td>3.0</td>\n",
              "      <td>3.0</td>\n",
              "    </tr>\n",
              "    <tr>\n",
              "      <th>d</th>\n",
              "      <td>NaN</td>\n",
              "      <td>4.0</td>\n",
              "    </tr>\n",
              "  </tbody>\n",
              "</table>\n",
              "</div>\n",
              "      <button class=\"colab-df-convert\" onclick=\"convertToInteractive('df-50325f83-0f4a-46c2-a5a5-e44ec3e9f975')\"\n",
              "              title=\"Convert this dataframe to an interactive table.\"\n",
              "              style=\"display:none;\">\n",
              "        \n",
              "  <svg xmlns=\"http://www.w3.org/2000/svg\" height=\"24px\"viewBox=\"0 0 24 24\"\n",
              "       width=\"24px\">\n",
              "    <path d=\"M0 0h24v24H0V0z\" fill=\"none\"/>\n",
              "    <path d=\"M18.56 5.44l.94 2.06.94-2.06 2.06-.94-2.06-.94-.94-2.06-.94 2.06-2.06.94zm-11 1L8.5 8.5l.94-2.06 2.06-.94-2.06-.94L8.5 2.5l-.94 2.06-2.06.94zm10 10l.94 2.06.94-2.06 2.06-.94-2.06-.94-.94-2.06-.94 2.06-2.06.94z\"/><path d=\"M17.41 7.96l-1.37-1.37c-.4-.4-.92-.59-1.43-.59-.52 0-1.04.2-1.43.59L10.3 9.45l-7.72 7.72c-.78.78-.78 2.05 0 2.83L4 21.41c.39.39.9.59 1.41.59.51 0 1.02-.2 1.41-.59l7.78-7.78 2.81-2.81c.8-.78.8-2.07 0-2.86zM5.41 20L4 18.59l7.72-7.72 1.47 1.35L5.41 20z\"/>\n",
              "  </svg>\n",
              "      </button>\n",
              "      \n",
              "  <style>\n",
              "    .colab-df-container {\n",
              "      display:flex;\n",
              "      flex-wrap:wrap;\n",
              "      gap: 12px;\n",
              "    }\n",
              "\n",
              "    .colab-df-convert {\n",
              "      background-color: #E8F0FE;\n",
              "      border: none;\n",
              "      border-radius: 50%;\n",
              "      cursor: pointer;\n",
              "      display: none;\n",
              "      fill: #1967D2;\n",
              "      height: 32px;\n",
              "      padding: 0 0 0 0;\n",
              "      width: 32px;\n",
              "    }\n",
              "\n",
              "    .colab-df-convert:hover {\n",
              "      background-color: #E2EBFA;\n",
              "      box-shadow: 0px 1px 2px rgba(60, 64, 67, 0.3), 0px 1px 3px 1px rgba(60, 64, 67, 0.15);\n",
              "      fill: #174EA6;\n",
              "    }\n",
              "\n",
              "    [theme=dark] .colab-df-convert {\n",
              "      background-color: #3B4455;\n",
              "      fill: #D2E3FC;\n",
              "    }\n",
              "\n",
              "    [theme=dark] .colab-df-convert:hover {\n",
              "      background-color: #434B5C;\n",
              "      box-shadow: 0px 1px 3px 1px rgba(0, 0, 0, 0.15);\n",
              "      filter: drop-shadow(0px 1px 2px rgba(0, 0, 0, 0.3));\n",
              "      fill: #FFFFFF;\n",
              "    }\n",
              "  </style>\n",
              "\n",
              "      <script>\n",
              "        const buttonEl =\n",
              "          document.querySelector('#df-50325f83-0f4a-46c2-a5a5-e44ec3e9f975 button.colab-df-convert');\n",
              "        buttonEl.style.display =\n",
              "          google.colab.kernel.accessAllowed ? 'block' : 'none';\n",
              "\n",
              "        async function convertToInteractive(key) {\n",
              "          const element = document.querySelector('#df-50325f83-0f4a-46c2-a5a5-e44ec3e9f975');\n",
              "          const dataTable =\n",
              "            await google.colab.kernel.invokeFunction('convertToInteractive',\n",
              "                                                     [key], {});\n",
              "          if (!dataTable) return;\n",
              "\n",
              "          const docLinkHtml = 'Like what you see? Visit the ' +\n",
              "            '<a target=\"_blank\" href=https://colab.research.google.com/notebooks/data_table.ipynb>data table notebook</a>'\n",
              "            + ' to learn more about interactive tables.';\n",
              "          element.innerHTML = '';\n",
              "          dataTable['output_type'] = 'display_data';\n",
              "          await google.colab.output.renderOutput(dataTable, element);\n",
              "          const docLink = document.createElement('div');\n",
              "          docLink.innerHTML = docLinkHtml;\n",
              "          element.appendChild(docLink);\n",
              "        }\n",
              "      </script>\n",
              "    </div>\n",
              "  </div>\n",
              "  "
            ]
          },
          "metadata": {},
          "execution_count": 4
        }
      ]
    },
    {
      "cell_type": "code",
      "source": [
        "\"\"\"\n",
        "Modificando Data Frame\n",
        "\"\"\"\n",
        "\n",
        "df1 = pd.DataFrame(d, index=[\"d\", \"a\", \"c\"]) #Escribe las columnas establecidas y las etiquetas solicitadas en ese orden\n",
        "print(df1)\n",
        "\n",
        "df2 = pd.DataFrame(d, index=[\"d\", \"a\", \"c\"],columns=[\"columna 2\", \"columna 3\"]) \n",
        "#Escribe las filas y columnas establecidas, si no hay datos pone NaN\n",
        "print(df2)\n",
        "\n",
        "#Por supuesto se puede acceder a los datos por filas o columnas\n",
        "print(df[\"c\":\"columna 2\"])\n",
        "\n",
        "#Podemos conocer el indice y las columnas\n",
        "print(df.index)\n",
        "print(df2.columns)"
      ],
      "metadata": {
        "colab": {
          "base_uri": "https://localhost:8080/"
        },
        "id": "QO6hIJ2c0IP1",
        "outputId": "4ec11094-bb7d-4876-c464-6e547cc3de66"
      },
      "execution_count": null,
      "outputs": [
        {
          "output_type": "stream",
          "name": "stdout",
          "text": [
            "   columna 1  columna 2\n",
            "d        NaN        4.0\n",
            "a        1.0        1.0\n",
            "c        3.0        3.0\n",
            "   columna 2 columna 3\n",
            "d        4.0       NaN\n",
            "a        1.0       NaN\n",
            "c        3.0       NaN\n",
            "   columna 1  columna 2\n",
            "c        3.0        3.0\n",
            "Index(['a', 'b', 'c', 'd'], dtype='object')\n",
            "Index(['columna 2', 'columna 3'], dtype='object')\n"
          ]
        }
      ]
    },
    {
      "cell_type": "code",
      "source": [
        "\"\"\"\n",
        "De diccionarios de ndarrays y listas\n",
        "recordar que un ndarray no es necesariamente un ente de numpy\n",
        "\"\"\"\n",
        "\n",
        "df_arrays = {\"uno\":[23,22,24,21],\"dos\":[19.0,8.0,24.0,30.0]}\n",
        "print(pd.DataFrame(df_arrays))\n",
        "\n",
        "#Asi mismo podemos colocarle etiquetas\n",
        "print(pd.DataFrame(df_arrays,index=[\"Alex\",\"Tere\",\"Lo\",\"Fer\"]))"
      ],
      "metadata": {
        "colab": {
          "base_uri": "https://localhost:8080/"
        },
        "id": "K6aG3oU024DK",
        "outputId": "8de63120-5e6d-422e-ff4f-e206525e6f10"
      },
      "execution_count": null,
      "outputs": [
        {
          "output_type": "stream",
          "name": "stdout",
          "text": [
            "   uno   dos\n",
            "0   23  19.0\n",
            "1   22   8.0\n",
            "2   24  24.0\n",
            "3   21  30.0\n",
            "      uno   dos\n",
            "Alex   23  19.0\n",
            "Tere   22   8.0\n",
            "Lo     24  24.0\n",
            "Fer    21  30.0\n"
          ]
        }
      ]
    },
    {
      "cell_type": "code",
      "source": [
        "\"\"\"\n",
        "From structured or record array\n",
        "\"\"\"\n",
        "\n",
        "data = np.zeros((2,), dtype=[(\"A\", \"i4\"), (\"B\", \"f4\"), (\"C\", \"a10\")])\n",
        "data[:] = [(1, 2.0, \"Hello\"), (2, 3.0, \"World\")]\n",
        "\n",
        "print(pd.DataFrame(data))\n",
        "\n",
        "#como ya vimos, podemos agregarle un índice\n",
        "print(pd.DataFrame(data, index=[\"Primero\", \"Segundo\"]))\n",
        "\n",
        "#Más aún, podemos configurar el orden de las columnas\n",
        "print(pd.DataFrame(data, index=[\"Primero\",\"Segundo\"], columns=[\"C\",\"A\",\"B\"]))"
      ],
      "metadata": {
        "id": "52nhwF3M5VL_",
        "colab": {
          "base_uri": "https://localhost:8080/"
        },
        "outputId": "fe9c9055-2160-40c4-b64f-0b4ea7e38c96"
      },
      "execution_count": null,
      "outputs": [
        {
          "output_type": "stream",
          "name": "stdout",
          "text": [
            "   A    B         C\n",
            "0  1  2.0  b'Hello'\n",
            "1  2  3.0  b'World'\n",
            "         A    B         C\n",
            "Primero  1  2.0  b'Hello'\n",
            "Segundo  2  3.0  b'World'\n",
            "                C  A    B\n",
            "Primero  b'Hello'  1  2.0\n",
            "Segundo  b'World'  2  3.0\n"
          ]
        }
      ]
    },
    {
      "cell_type": "code",
      "source": [
        "\"\"\"\n",
        "De una lista de dicccionarios\n",
        "Vimos que se puede crear a partir de un dictado una Series, sin embargo\n",
        "con varios dicccionarios podemos crear un DataFrame, donde cada dictado será\n",
        "una fila. Si los dict no son del mismo tamaño, se tomará el de mayor\n",
        "orden para definir el número de columnas, los demás rellenarán con NaN\n",
        "\"\"\"\n",
        "\n",
        "dictados = [{\"a\":23, \"T\":23},{\"a\":19,\"T\":8,\"A\":26}]\n",
        "\n",
        "print(pd.DataFrame(dictados))\n",
        "\n",
        "#Y el resto, nombrar índices y ajustar columnas igual que en los casos anteriores\n"
      ],
      "metadata": {
        "colab": {
          "base_uri": "https://localhost:8080/"
        },
        "id": "s4ZrMejPAzCv",
        "outputId": "40b3d81d-f782-4f21-d511-49de80112530"
      },
      "execution_count": null,
      "outputs": [
        {
          "output_type": "stream",
          "name": "stdout",
          "text": [
            "    a   T     A\n",
            "0  23  23   NaN\n",
            "1  19   8  26.0\n"
          ]
        }
      ]
    },
    {
      "cell_type": "code",
      "source": [
        "\"\"\"\n",
        "De un dict de Tuplas\n",
        "Se puede crear automaticamente una marco multi-indexado\n",
        "\"\"\"\n",
        "#Notemos que, la primer letra denota un indice superior de columnas, mientras\n",
        "#que la segunda una columna secudaria, lo mismo con las filas\n",
        "\n",
        "print(pd.DataFrame(\n",
        "    {\n",
        "        (\"a\", \"b\"): {(\"A\", \"B\"): 1, (\"A\", \"C\"): 2},\n",
        "        (\"a\", \"a\"): {(\"A\", \"C\"): 3, (\"A\", \"B\"): 4},\n",
        "        (\"a\", \"c\"): {(\"A\", \"B\"): 5, (\"A\", \"C\"): 6},\n",
        "        (\"b\", \"a\"): {(\"A\", \"C\"): 7, (\"A\", \"B\"): 8},\n",
        "        (\"b\", \"b\"): {(\"A\", \"D\"): 9, (\"A\", \"B\"): 10},\n",
        "    }\n",
        "))\n",
        "\n",
        "#Si solo queremos columnas y filas procedemos como listas de dict\n",
        "print(pd.DataFrame(\n",
        "    {\"a\":{\"A\":1,\"C\":2},\n",
        "     \"b\":{\"A\":3, \"C\":4}\n",
        "     }\n",
        ")\n",
        "    \n",
        ")\n"
      ],
      "metadata": {
        "colab": {
          "base_uri": "https://localhost:8080/"
        },
        "id": "EEOjzqs_CwDt",
        "outputId": "309331e6-c2b5-4271-8ad4-9c564c223f7b"
      },
      "execution_count": null,
      "outputs": [
        {
          "output_type": "stream",
          "name": "stdout",
          "text": [
            "       a              b      \n",
            "       b    a    c    a     b\n",
            "A B  1.0  4.0  5.0  8.0  10.0\n",
            "  C  2.0  3.0  6.0  7.0   NaN\n",
            "  D  NaN  NaN  NaN  NaN   9.0\n",
            "   a  b\n",
            "A  1  3\n",
            "C  2  4\n"
          ]
        }
      ]
    },
    {
      "cell_type": "code",
      "source": [
        "\"\"\"\n",
        "De Series\n",
        "Ya sabemos hacer series, por lo que es evidente podemos hacer un DF\n",
        "desde Series\n",
        "\"\"\"\n",
        "\n",
        "ser = pd.Series(np.random.randint(4,5), index=list(\"abcd\"), name=\"ser\")\n",
        "\n",
        "print(pd.DataFrame(ser))\n"
      ],
      "metadata": {
        "colab": {
          "base_uri": "https://localhost:8080/"
        },
        "id": "D6vqzBakFlnp",
        "outputId": "eac195a8-644c-405c-8097-14e5155af3ef"
      },
      "execution_count": null,
      "outputs": [
        {
          "output_type": "stream",
          "name": "stdout",
          "text": [
            "   ser\n",
            "a    4\n",
            "b    4\n",
            "c    4\n",
            "d    4\n"
          ]
        }
      ]
    },
    {
      "cell_type": "code",
      "source": [
        "\"\"\"\n",
        "From a list of namedtuples\n",
        "\n",
        "Los nombres de campo del primer namedtuple en la lista determinan las columnas\n",
        "del DataFrame. Las demás namedtuples (o tuplas) son simplemente desempaquetadas\n",
        "y sus valores se introducen en las filas del DataFrame. Si alguna de esas\n",
        "tuplas es más corta que la primera namedtuple, entonces las columnas\n",
        "posteriores en la fila correspondiente se marcan como valores que faltan. \n",
        "Si alguno es más largo que el primer nombre, se eleva un ValueError.\n",
        "Los nombres de campo del primer namedtuple en la lista determinan las\n",
        "columnas del DataFrame. Las demás namedtuples (o tuplas) son simplemente\n",
        "desempaquetadas y sus valores se introducen en las filas del DataFrame. \n",
        "Si alguna de esas tuplas es más corta que la primera namedtuple, entonces\n",
        "las columnas posteriores en la fila correspondiente se marcan como \n",
        "valores que faltan. Si alguno es más largo que el primer nombre, \n",
        "se eleva un ValueError.\n",
        "\"\"\"\n",
        "\n",
        "from collections import namedtuple\n",
        "\n",
        "Puntos = namedtuple(\"Puntos\", \"x y\")\n",
        "print(pd.DataFrame([Puntos(0,0), Puntos(1,1), Puntos(2,2)]))\n",
        "\n",
        "#Así mismo podemos aumentar el número de columnas\n",
        "P4 = namedtuple(\"P4\", \"x y z a\")\n",
        "\n",
        "print(pd.DataFrame([P4(0,0,0,0), P4(1,2,3,4),P4(2,4,6,8)]))"
      ],
      "metadata": {
        "colab": {
          "base_uri": "https://localhost:8080/"
        },
        "id": "YDKJk7d5G9CP",
        "outputId": "d0090438-45b2-4d73-851f-ca7325517eca"
      },
      "execution_count": null,
      "outputs": [
        {
          "output_type": "stream",
          "name": "stdout",
          "text": [
            "   x  y\n",
            "0  0  0\n",
            "1  1  1\n",
            "2  2  2\n",
            "   x  y  z  a\n",
            "0  0  0  0  0\n",
            "1  1  2  3  4\n",
            "2  2  4  6  8\n"
          ]
        }
      ]
    },
    {
      "cell_type": "code",
      "source": [
        "\"\"\"\n",
        "De una dataclass\n",
        "\"\"\"\n",
        "\n",
        "from dataclasses import make_dataclass\n",
        "\n",
        "Point = make_dataclass(\"Point\", [(\"x\", int), (\"y\", int)])\n",
        "\n",
        "print(pd.DataFrame([Point(0,0), Point(1,1)]))"
      ],
      "metadata": {
        "colab": {
          "base_uri": "https://localhost:8080/"
        },
        "id": "uXHVIxj5Reto",
        "outputId": "851a6703-04b4-46b9-ab23-f35a828b6d64"
      },
      "execution_count": null,
      "outputs": [
        {
          "output_type": "stream",
          "name": "stdout",
          "text": [
            "   x  y\n",
            "0  0  0\n",
            "1  1  1\n"
          ]
        }
      ]
    },
    {
      "cell_type": "code",
      "source": [
        "\"\"\"\n",
        "Construcciones alternas\n",
        "\"\"\"\n",
        "#DataFrame.from_dict\n",
        "#De la siguiente forma \n",
        "pd.DataFrame.from_dict(dict([(\"A\", [1, 2, 3]), (\"B\", [4, 5, 6])]))\n",
        "\n",
        "#De la siguiente forma asignamos columnas y filas, usando el comando orient\n",
        "pd.DataFrame.from_dict(dict([(\"A\", [1, 2, 3]), (\"B\", [4, 5, 6])]),\n",
        "                       orient=\"index\", columns=[\"uno\",\"dos\",\"tres\"])\n"
      ],
      "metadata": {
        "colab": {
          "base_uri": "https://localhost:8080/",
          "height": 112
        },
        "id": "crlf7yorSU9W",
        "outputId": "8ed997e0-4e58-4abf-b0b9-668435b9d7f3"
      },
      "execution_count": null,
      "outputs": [
        {
          "output_type": "execute_result",
          "data": {
            "text/plain": [
              "   uno  dos  tres\n",
              "A    1    2     3\n",
              "B    4    5     6"
            ],
            "text/html": [
              "\n",
              "  <div id=\"df-be1e7681-ecf9-4502-a834-e103ae78921a\">\n",
              "    <div class=\"colab-df-container\">\n",
              "      <div>\n",
              "<style scoped>\n",
              "    .dataframe tbody tr th:only-of-type {\n",
              "        vertical-align: middle;\n",
              "    }\n",
              "\n",
              "    .dataframe tbody tr th {\n",
              "        vertical-align: top;\n",
              "    }\n",
              "\n",
              "    .dataframe thead th {\n",
              "        text-align: right;\n",
              "    }\n",
              "</style>\n",
              "<table border=\"1\" class=\"dataframe\">\n",
              "  <thead>\n",
              "    <tr style=\"text-align: right;\">\n",
              "      <th></th>\n",
              "      <th>uno</th>\n",
              "      <th>dos</th>\n",
              "      <th>tres</th>\n",
              "    </tr>\n",
              "  </thead>\n",
              "  <tbody>\n",
              "    <tr>\n",
              "      <th>A</th>\n",
              "      <td>1</td>\n",
              "      <td>2</td>\n",
              "      <td>3</td>\n",
              "    </tr>\n",
              "    <tr>\n",
              "      <th>B</th>\n",
              "      <td>4</td>\n",
              "      <td>5</td>\n",
              "      <td>6</td>\n",
              "    </tr>\n",
              "  </tbody>\n",
              "</table>\n",
              "</div>\n",
              "      <button class=\"colab-df-convert\" onclick=\"convertToInteractive('df-be1e7681-ecf9-4502-a834-e103ae78921a')\"\n",
              "              title=\"Convert this dataframe to an interactive table.\"\n",
              "              style=\"display:none;\">\n",
              "        \n",
              "  <svg xmlns=\"http://www.w3.org/2000/svg\" height=\"24px\"viewBox=\"0 0 24 24\"\n",
              "       width=\"24px\">\n",
              "    <path d=\"M0 0h24v24H0V0z\" fill=\"none\"/>\n",
              "    <path d=\"M18.56 5.44l.94 2.06.94-2.06 2.06-.94-2.06-.94-.94-2.06-.94 2.06-2.06.94zm-11 1L8.5 8.5l.94-2.06 2.06-.94-2.06-.94L8.5 2.5l-.94 2.06-2.06.94zm10 10l.94 2.06.94-2.06 2.06-.94-2.06-.94-.94-2.06-.94 2.06-2.06.94z\"/><path d=\"M17.41 7.96l-1.37-1.37c-.4-.4-.92-.59-1.43-.59-.52 0-1.04.2-1.43.59L10.3 9.45l-7.72 7.72c-.78.78-.78 2.05 0 2.83L4 21.41c.39.39.9.59 1.41.59.51 0 1.02-.2 1.41-.59l7.78-7.78 2.81-2.81c.8-.78.8-2.07 0-2.86zM5.41 20L4 18.59l7.72-7.72 1.47 1.35L5.41 20z\"/>\n",
              "  </svg>\n",
              "      </button>\n",
              "      \n",
              "  <style>\n",
              "    .colab-df-container {\n",
              "      display:flex;\n",
              "      flex-wrap:wrap;\n",
              "      gap: 12px;\n",
              "    }\n",
              "\n",
              "    .colab-df-convert {\n",
              "      background-color: #E8F0FE;\n",
              "      border: none;\n",
              "      border-radius: 50%;\n",
              "      cursor: pointer;\n",
              "      display: none;\n",
              "      fill: #1967D2;\n",
              "      height: 32px;\n",
              "      padding: 0 0 0 0;\n",
              "      width: 32px;\n",
              "    }\n",
              "\n",
              "    .colab-df-convert:hover {\n",
              "      background-color: #E2EBFA;\n",
              "      box-shadow: 0px 1px 2px rgba(60, 64, 67, 0.3), 0px 1px 3px 1px rgba(60, 64, 67, 0.15);\n",
              "      fill: #174EA6;\n",
              "    }\n",
              "\n",
              "    [theme=dark] .colab-df-convert {\n",
              "      background-color: #3B4455;\n",
              "      fill: #D2E3FC;\n",
              "    }\n",
              "\n",
              "    [theme=dark] .colab-df-convert:hover {\n",
              "      background-color: #434B5C;\n",
              "      box-shadow: 0px 1px 3px 1px rgba(0, 0, 0, 0.15);\n",
              "      filter: drop-shadow(0px 1px 2px rgba(0, 0, 0, 0.3));\n",
              "      fill: #FFFFFF;\n",
              "    }\n",
              "  </style>\n",
              "\n",
              "      <script>\n",
              "        const buttonEl =\n",
              "          document.querySelector('#df-be1e7681-ecf9-4502-a834-e103ae78921a button.colab-df-convert');\n",
              "        buttonEl.style.display =\n",
              "          google.colab.kernel.accessAllowed ? 'block' : 'none';\n",
              "\n",
              "        async function convertToInteractive(key) {\n",
              "          const element = document.querySelector('#df-be1e7681-ecf9-4502-a834-e103ae78921a');\n",
              "          const dataTable =\n",
              "            await google.colab.kernel.invokeFunction('convertToInteractive',\n",
              "                                                     [key], {});\n",
              "          if (!dataTable) return;\n",
              "\n",
              "          const docLinkHtml = 'Like what you see? Visit the ' +\n",
              "            '<a target=\"_blank\" href=https://colab.research.google.com/notebooks/data_table.ipynb>data table notebook</a>'\n",
              "            + ' to learn more about interactive tables.';\n",
              "          element.innerHTML = '';\n",
              "          dataTable['output_type'] = 'display_data';\n",
              "          await google.colab.output.renderOutput(dataTable, element);\n",
              "          const docLink = document.createElement('div');\n",
              "          docLink.innerHTML = docLinkHtml;\n",
              "          element.appendChild(docLink);\n",
              "        }\n",
              "      </script>\n",
              "    </div>\n",
              "  </div>\n",
              "  "
            ]
          },
          "metadata": {},
          "execution_count": 3
        }
      ]
    },
    {
      "cell_type": "code",
      "source": [
        "\"\"\"\n",
        "Trabajando con las columnas\n",
        "\"\"\"\n",
        "\n",
        "df_arrays\n",
        "\n",
        "df3 = pd.DataFrame(df_arrays)\n",
        "\n",
        "#Para seleccionar una columna, regresa una Series\n",
        "df3[\"uno\"]\n",
        "\n",
        "#Podemos agregar una columna con operaciones entre columnas\n",
        "df3[\"tres\"] = df3[\"uno\"]*df3[\"dos\"]\n",
        "\n",
        "#Incluso agregar más columnas con condicionales\n",
        "df3[\"Objetivo\"] = df3[\"uno\"] > 22\n",
        "\n",
        "print(df3)\n",
        "print(\"\")\n",
        "\n",
        "#También se pueden borrar o \"Poppear\" columnas\n",
        "\n",
        "del df3[\"dos\"]\n",
        "\n",
        "print(df3)\n",
        "print(\"\")\n",
        "\n",
        "tres = df3.pop(\"tres\")\n",
        "\n",
        "print(df3)\n",
        "print(\"\")\n",
        "\n",
        "#Al agregar una columna insertando un valor escalar, se llenará \n",
        "df3[\"Foo\"] = 3.0\n",
        "print(df3)\n",
        "print(\"\")\n",
        "\n",
        "#Cuando se agregá una serie con diferente tamaño se rellena con NaN\n",
        "df3[\"uno incompleto\"] = df3[\"uno\"][:2]\n",
        "print(df3)\n",
        "print(\"\")\n",
        "\n",
        "#Se pueden insertar columnas, con la condición que esta nueva tenga el mismo\n",
        "#número de índices, la función insert nos ayuda a colocarla en cualquier \n",
        "#posición\n",
        "\n",
        "df3.insert(2,\"dos\", df3[\"uno\"])\n",
        "print(df3)"
      ],
      "metadata": {
        "colab": {
          "base_uri": "https://localhost:8080/"
        },
        "id": "MC4eOKrBN6OF",
        "outputId": "c8b5c1d2-f2c8-4393-8273-c886ca793dc8"
      },
      "execution_count": null,
      "outputs": [
        {
          "output_type": "stream",
          "name": "stdout",
          "text": [
            "   uno   dos   tres  Objetivo\n",
            "0   23  19.0  437.0      True\n",
            "1   22   8.0  176.0     False\n",
            "2   24  24.0  576.0      True\n",
            "3   21  30.0  630.0     False\n",
            "\n",
            "   uno   tres  Objetivo\n",
            "0   23  437.0      True\n",
            "1   22  176.0     False\n",
            "2   24  576.0      True\n",
            "3   21  630.0     False\n",
            "\n",
            "   uno  Objetivo\n",
            "0   23      True\n",
            "1   22     False\n",
            "2   24      True\n",
            "3   21     False\n",
            "\n",
            "   uno  Objetivo  Foo\n",
            "0   23      True  3.0\n",
            "1   22     False  3.0\n",
            "2   24      True  3.0\n",
            "3   21     False  3.0\n",
            "\n",
            "   uno  Objetivo  Foo  uno incompleto\n",
            "0   23      True  3.0            23.0\n",
            "1   22     False  3.0            22.0\n",
            "2   24      True  3.0             NaN\n",
            "3   21     False  3.0             NaN\n",
            "\n",
            "   uno  Objetivo  dos  Foo  uno incompleto\n",
            "0   23      True   23  3.0            23.0\n",
            "1   22     False   22  3.0            22.0\n",
            "2   24      True   24  3.0             NaN\n",
            "3   21     False   21  3.0             NaN\n"
          ]
        }
      ]
    },
    {
      "cell_type": "code",
      "source": [
        "\"\"\"\n",
        "Asignar nuevas columnas con el método de la cadena\n",
        "\"\"\"\n",
        "\n",
        "d_iris = {\"lambda\":pd.Series(range(100)),\n",
        "                             \"array\":pd.Series(np.random.rand(100))}\n",
        "iris = pd.DataFrame(d_iris)\n",
        "\n",
        "iris.plot(kind=\"scatter\", x=\"lambda\", y=\"array\")\n",
        "\n",
        "#Se asgina una nueva columna\n",
        "iris.assign(otro=np.cos(iris[\"lambda\"])*iris[\"array\"]) \n",
        "\n",
        "#Podemos también hacerlo con una funcion univaluada\n",
        "iris.assign(otro=lambda x:(np.cos(x[\"lambda\"])*x[\"array\"])).head()\n",
        "\n",
        "#Y para graficar es\n",
        "iris.assign(otro=lambda x:(np.cos(x[\"lambda\"])*x[\"array\"])).plot(kind=\"scatter\", x=\"lambda\", y=\"otro\")\n",
        "\n",
        "#Podemos agregar columnas de las recien agregadas\n",
        "Ar = pd.DataFrame({\"A\":[1.0,2.0,3.0,4.0], \"B\":np.random.rand(4)})\n",
        "#Aquí la C es de la nueva columna generada\n",
        "Ar.assign(C=lambda x: x[\"A\"]*x[\"B\"], D=lambda x: x[\"C\"]-x[\"B\"])"
      ],
      "metadata": {
        "id": "40wWGNGITe39",
        "colab": {
          "base_uri": "https://localhost:8080/",
          "height": 699
        },
        "outputId": "a05be222-3ae4-46b9-e6b3-546bb4fe7a87"
      },
      "execution_count": 13,
      "outputs": [
        {
          "output_type": "execute_result",
          "data": {
            "text/plain": [
              "     A         B         C         D\n",
              "0  1.0  0.961043  0.961043  0.000000\n",
              "1  2.0  0.438529  0.877057  0.438529\n",
              "2  3.0  0.976773  2.930320  1.953547\n",
              "3  4.0  0.677766  2.711064  2.033298"
            ],
            "text/html": [
              "\n",
              "  <div id=\"df-9fa046bc-b30d-427a-b9b0-b948382d4d03\">\n",
              "    <div class=\"colab-df-container\">\n",
              "      <div>\n",
              "<style scoped>\n",
              "    .dataframe tbody tr th:only-of-type {\n",
              "        vertical-align: middle;\n",
              "    }\n",
              "\n",
              "    .dataframe tbody tr th {\n",
              "        vertical-align: top;\n",
              "    }\n",
              "\n",
              "    .dataframe thead th {\n",
              "        text-align: right;\n",
              "    }\n",
              "</style>\n",
              "<table border=\"1\" class=\"dataframe\">\n",
              "  <thead>\n",
              "    <tr style=\"text-align: right;\">\n",
              "      <th></th>\n",
              "      <th>A</th>\n",
              "      <th>B</th>\n",
              "      <th>C</th>\n",
              "      <th>D</th>\n",
              "    </tr>\n",
              "  </thead>\n",
              "  <tbody>\n",
              "    <tr>\n",
              "      <th>0</th>\n",
              "      <td>1.0</td>\n",
              "      <td>0.961043</td>\n",
              "      <td>0.961043</td>\n",
              "      <td>0.000000</td>\n",
              "    </tr>\n",
              "    <tr>\n",
              "      <th>1</th>\n",
              "      <td>2.0</td>\n",
              "      <td>0.438529</td>\n",
              "      <td>0.877057</td>\n",
              "      <td>0.438529</td>\n",
              "    </tr>\n",
              "    <tr>\n",
              "      <th>2</th>\n",
              "      <td>3.0</td>\n",
              "      <td>0.976773</td>\n",
              "      <td>2.930320</td>\n",
              "      <td>1.953547</td>\n",
              "    </tr>\n",
              "    <tr>\n",
              "      <th>3</th>\n",
              "      <td>4.0</td>\n",
              "      <td>0.677766</td>\n",
              "      <td>2.711064</td>\n",
              "      <td>2.033298</td>\n",
              "    </tr>\n",
              "  </tbody>\n",
              "</table>\n",
              "</div>\n",
              "      <button class=\"colab-df-convert\" onclick=\"convertToInteractive('df-9fa046bc-b30d-427a-b9b0-b948382d4d03')\"\n",
              "              title=\"Convert this dataframe to an interactive table.\"\n",
              "              style=\"display:none;\">\n",
              "        \n",
              "  <svg xmlns=\"http://www.w3.org/2000/svg\" height=\"24px\"viewBox=\"0 0 24 24\"\n",
              "       width=\"24px\">\n",
              "    <path d=\"M0 0h24v24H0V0z\" fill=\"none\"/>\n",
              "    <path d=\"M18.56 5.44l.94 2.06.94-2.06 2.06-.94-2.06-.94-.94-2.06-.94 2.06-2.06.94zm-11 1L8.5 8.5l.94-2.06 2.06-.94-2.06-.94L8.5 2.5l-.94 2.06-2.06.94zm10 10l.94 2.06.94-2.06 2.06-.94-2.06-.94-.94-2.06-.94 2.06-2.06.94z\"/><path d=\"M17.41 7.96l-1.37-1.37c-.4-.4-.92-.59-1.43-.59-.52 0-1.04.2-1.43.59L10.3 9.45l-7.72 7.72c-.78.78-.78 2.05 0 2.83L4 21.41c.39.39.9.59 1.41.59.51 0 1.02-.2 1.41-.59l7.78-7.78 2.81-2.81c.8-.78.8-2.07 0-2.86zM5.41 20L4 18.59l7.72-7.72 1.47 1.35L5.41 20z\"/>\n",
              "  </svg>\n",
              "      </button>\n",
              "      \n",
              "  <style>\n",
              "    .colab-df-container {\n",
              "      display:flex;\n",
              "      flex-wrap:wrap;\n",
              "      gap: 12px;\n",
              "    }\n",
              "\n",
              "    .colab-df-convert {\n",
              "      background-color: #E8F0FE;\n",
              "      border: none;\n",
              "      border-radius: 50%;\n",
              "      cursor: pointer;\n",
              "      display: none;\n",
              "      fill: #1967D2;\n",
              "      height: 32px;\n",
              "      padding: 0 0 0 0;\n",
              "      width: 32px;\n",
              "    }\n",
              "\n",
              "    .colab-df-convert:hover {\n",
              "      background-color: #E2EBFA;\n",
              "      box-shadow: 0px 1px 2px rgba(60, 64, 67, 0.3), 0px 1px 3px 1px rgba(60, 64, 67, 0.15);\n",
              "      fill: #174EA6;\n",
              "    }\n",
              "\n",
              "    [theme=dark] .colab-df-convert {\n",
              "      background-color: #3B4455;\n",
              "      fill: #D2E3FC;\n",
              "    }\n",
              "\n",
              "    [theme=dark] .colab-df-convert:hover {\n",
              "      background-color: #434B5C;\n",
              "      box-shadow: 0px 1px 3px 1px rgba(0, 0, 0, 0.15);\n",
              "      filter: drop-shadow(0px 1px 2px rgba(0, 0, 0, 0.3));\n",
              "      fill: #FFFFFF;\n",
              "    }\n",
              "  </style>\n",
              "\n",
              "      <script>\n",
              "        const buttonEl =\n",
              "          document.querySelector('#df-9fa046bc-b30d-427a-b9b0-b948382d4d03 button.colab-df-convert');\n",
              "        buttonEl.style.display =\n",
              "          google.colab.kernel.accessAllowed ? 'block' : 'none';\n",
              "\n",
              "        async function convertToInteractive(key) {\n",
              "          const element = document.querySelector('#df-9fa046bc-b30d-427a-b9b0-b948382d4d03');\n",
              "          const dataTable =\n",
              "            await google.colab.kernel.invokeFunction('convertToInteractive',\n",
              "                                                     [key], {});\n",
              "          if (!dataTable) return;\n",
              "\n",
              "          const docLinkHtml = 'Like what you see? Visit the ' +\n",
              "            '<a target=\"_blank\" href=https://colab.research.google.com/notebooks/data_table.ipynb>data table notebook</a>'\n",
              "            + ' to learn more about interactive tables.';\n",
              "          element.innerHTML = '';\n",
              "          dataTable['output_type'] = 'display_data';\n",
              "          await google.colab.output.renderOutput(dataTable, element);\n",
              "          const docLink = document.createElement('div');\n",
              "          docLink.innerHTML = docLinkHtml;\n",
              "          element.appendChild(docLink);\n",
              "        }\n",
              "      </script>\n",
              "    </div>\n",
              "  </div>\n",
              "  "
            ]
          },
          "metadata": {},
          "execution_count": 13
        },
        {
          "output_type": "display_data",
          "data": {
            "text/plain": [
              "<Figure size 432x288 with 1 Axes>"
            ],
            "image/png": "[encoded data removed]"
          },
          "metadata": {
            "needs_background": "light"
          }
        },
        {
          "output_type": "display_data",
          "data": {
            "text/plain": [
              "<Figure size 432x288 with 1 Axes>"
            ],
            "image/png": "[encoded data removed]"
          },
          "metadata": {
            "needs_background": "light"
          }
        }
      ]
    },
    {
      "cell_type": "code",
      "source": [
        "\"\"\"\n",
        "Indexing/Selection\n",
        "Hay una serie de comandos basicos de indexing\n",
        "\"\"\"\n",
        "\n",
        "calle = {\"A\":pd.Series([1.0,2.0,3.5,4.8,9.4],index=[\"a\",\"b\",\"c\",\"d\",\"e\"]),\n",
        "         \"B\":pd.Series([7.5,1.2,0.98,8.9,7.3],index=[\"a\",\"b\",\"c\",\"d\",\"e\"]),\n",
        "         \"C\":pd.Series([2.0,6.0,8.54,3.9,4.0],index=[\"a\",\"b\",\"c\",\"d\",\"e\"])}\n",
        "\n",
        "ca = pd.DataFrame(calle)\n",
        "\n",
        "#Seleccionar columna, devuelve una serie\n",
        "print(ca[\"A\"])\n",
        "\n",
        "#Seleccionar un row por label, devuelve una serie\n",
        "print(ca.loc[\"b\"])\n",
        "\n",
        "#Seleccionar una row por numeración, devuelve una serie\n",
        "print(ca.iloc[3])\n",
        "\n",
        "#Seleccionar rebanadas, devuelve un DataFrame\n",
        "print(ca[2:4])"
      ],
      "metadata": {
        "colab": {
          "base_uri": "https://localhost:8080/"
        },
        "id": "0xWEV2FfMqsk",
        "outputId": "c9049a33-3c28-4aa0-ee7a-8955e708881c"
      },
      "execution_count": null,
      "outputs": [
        {
          "output_type": "stream",
          "name": "stdout",
          "text": [
            "a    1.0\n",
            "b    2.0\n",
            "c    3.5\n",
            "d    4.8\n",
            "e    9.4\n",
            "Name: A, dtype: float64\n",
            "A    2.0\n",
            "B    1.2\n",
            "C    6.0\n",
            "Name: b, dtype: float64\n",
            "A    4.8\n",
            "B    8.9\n",
            "C    3.9\n",
            "Name: d, dtype: float64\n",
            "     A     B     C\n",
            "c  3.5  0.98  8.54\n",
            "d  4.8  8.90  3.90\n"
          ]
        }
      ]
    },
    {
      "cell_type": "code",
      "source": [
        "\"\"\"\n",
        "Alineación de datos y aritmetica\n",
        "La alineación de datos de dataframe, alinea automaticamente los datos, dando\n",
        "como resultado la unión de los datos.\n",
        "\"\"\"\n",
        "\n",
        "d_f_1 = pd.DataFrame(np.random.rand(10,4), columns=[\"A\",\"B\",\"C\",\"D\"])\n",
        "d_f_2 = pd.DataFrame(np.random.rand(7,3), columns=[\"A\",\"B\",\"C\"])\n",
        "\n",
        "#En las líneas anteriores tenemos dos DF de distinta dimensión,\n",
        "#al sumarlos, la alineación nos regresa la unión\n",
        "\n",
        "print(d_f_1+d_f_2) #Notese que donde no se unen aparece NaN\n",
        "\n",
        "\"\"\"\n",
        "Cuando se realiza una operación entre DataFrame y Series, \n",
        "el comportamiento predeterminado es alinear el índice de Series en las\n",
        "columnas DataFrame, transmitiendo así las filas. Por ejemplo:\n",
        "\"\"\"\n",
        "\n",
        "print(d_f_1-d_f_1.iloc[0])\n",
        "\n",
        "#Operaciones por escalares\n",
        "\n",
        "print(d_f_1*2-5) #Multiplica cada elemento por cinco y resta dos\n",
        "\n",
        "print(1/d_f_1) #Saca el inverso de cada elemento\n",
        "\n",
        "print(d_f_1**2) #Eleva a la cuarta cada elemento\n",
        "\n",
        "#Operaciones con boleanos\n",
        "\n",
        "d_f_3 = pd.DataFrame({\"a\":[1,0,0], \"b\":[0,1,1]}, dtype=bool)\n",
        "d_f_4 = pd.DataFrame({\"a\":[1,1,0], \"b\":[0,1,0]}, dtype=bool)\n",
        "\n",
        "print(d_f_3 & d_f_4) # Unión\n",
        "\n",
        "print(d_f_3 | d_f_4) #Conjunción\n",
        "\n",
        "print(d_f_3 ^ d_f_4) #\n",
        "\n",
        "print(-d_f_3) #Negación"
      ],
      "metadata": {
        "colab": {
          "base_uri": "https://localhost:8080/"
        },
        "id": "l1h_YLa8jCt9",
        "outputId": "a78ce81c-98f2-424d-edc1-5773af00dd75"
      },
      "execution_count": 3,
      "outputs": [
        {
          "output_type": "stream",
          "name": "stdout",
          "text": [
            "          A         B         C   D\n",
            "0  1.496306  0.710080  1.132496 NaN\n",
            "1  1.652609  0.262109  1.525614 NaN\n",
            "2  1.252081  1.751045  1.065407 NaN\n",
            "3  1.485655  1.311951  1.601565 NaN\n",
            "4  0.971566  1.036643  0.687383 NaN\n",
            "5  1.402386  0.939968  0.462149 NaN\n",
            "6  1.028072  0.195016  0.724068 NaN\n",
            "7       NaN       NaN       NaN NaN\n",
            "8       NaN       NaN       NaN NaN\n",
            "9       NaN       NaN       NaN NaN\n",
            "          A         B         C         D\n",
            "0  0.000000  0.000000  0.000000  0.000000\n",
            "1 -0.140557 -0.429643  0.120545 -0.582124\n",
            "2 -0.163556  0.335671 -0.615388  0.223313\n",
            "3 -0.059181 -0.127449  0.007137  0.140575\n",
            "4  0.053889  0.375305 -0.404292  0.033909\n",
            "5 -0.179253  0.251757 -0.258376  0.135525\n",
            "6 -0.254824 -0.370623 -0.597776  0.209493\n",
            "7 -0.329922 -0.005161 -0.108814 -0.003456\n",
            "8  0.104237  0.054013 -0.060825 -0.062839\n",
            "9 -0.765809 -0.429208  0.277351 -0.289694\n",
            "          A         B         C         D\n",
            "0 -3.339506 -3.949542 -3.588739 -3.637297\n",
            "1 -3.620620 -4.808828 -3.347649 -4.801545\n",
            "2 -3.666619 -3.278200 -4.819516 -3.190671\n",
            "3 -3.457868 -4.204440 -3.574465 -3.356148\n",
            "4 -3.231729 -3.198932 -4.397322 -3.569479\n",
            "5 -3.698013 -3.446029 -4.105492 -3.366247\n",
            "6 -3.849155 -4.690788 -4.784292 -3.218311\n",
            "7 -3.999350 -3.959864 -3.806368 -3.644209\n",
            "8 -3.131033 -3.841516 -3.710389 -3.762975\n",
            "9 -4.871125 -4.807958 -3.034037 -4.216685\n",
            "           A          B          C          D\n",
            "0   1.204461   1.903932   1.417173   1.467672\n",
            "1   1.449927  10.461786   1.210397  10.077869\n",
            "2   1.499946   1.161575  11.081339   1.105382\n",
            "3   1.296906   2.513954   1.402982   1.216654\n",
            "4   1.131049   1.110453   3.318524   1.398092\n",
            "5   1.536114   1.287025   2.235867   1.224175\n",
            "6   1.737854   6.468056   9.271802   1.122530\n",
            "7   1.998700   1.922825   1.675559   1.475154\n",
            "8   1.070110   1.726395   1.550855   1.616783\n",
            "9  15.518960  10.414380   1.017313   2.553252\n",
            "          A         B         C         D\n",
            "0  0.689310  0.275865  0.497914  0.464240\n",
            "1  0.475672  0.009137  0.682566  0.009846\n",
            "2  0.444476  0.741149  0.008144  0.818418\n",
            "3  0.594543  0.158229  0.508037  0.675562\n",
            "4  0.781695  0.810961  0.090805  0.511598\n",
            "5  0.423792  0.603707  0.200036  0.667287\n",
            "6  0.331111  0.023903  0.011632  0.793604\n",
            "7  0.250325  0.270471  0.356189  0.459542\n",
            "8  0.873260  0.335521  0.415774  0.382557\n",
            "9  0.004152  0.009220  0.966253  0.153396\n",
            "       a      b\n",
            "0   True  False\n",
            "1  False   True\n",
            "2  False  False\n",
            "       a      b\n",
            "0   True  False\n",
            "1   True   True\n",
            "2  False   True\n",
            "       a      b\n",
            "0  False  False\n",
            "1   True  False\n",
            "2  False   True\n",
            "       a      b\n",
            "0  False   True\n",
            "1   True  False\n",
            "2   True  False\n"
          ]
        }
      ]
    },
    {
      "cell_type": "code",
      "source": [
        "\"\"\"\n",
        "Transposing\n",
        "Tal como su nombre indica, este operador transpone el DF\n",
        "\"\"\"\n",
        "\n",
        "print(d_f_1.T) #Transpone\n",
        "\n",
        "print(d_f_1[:5].T) #Transpone hasta la quinta fila\n",
        "\n"
      ],
      "metadata": {
        "colab": {
          "base_uri": "https://localhost:8080/"
        },
        "id": "7lFN-eFCyauL",
        "outputId": "afcf1fd0-38fb-458b-8117-bfadd68a0f03"
      },
      "execution_count": 5,
      "outputs": [
        {
          "output_type": "stream",
          "name": "stdout",
          "text": [
            "          0         1         2         3         4         5         6  \\\n",
            "A  0.830247  0.689690  0.666691  0.771066  0.884135  0.650993  0.575422   \n",
            "B  0.525229  0.095586  0.860900  0.397780  0.900534  0.776986  0.154606   \n",
            "C  0.705630  0.826175  0.090242  0.712767  0.301339  0.447254  0.107854   \n",
            "D  0.681351  0.099227  0.904664  0.821926  0.715261  0.816876  0.890844   \n",
            "\n",
            "          7         8         9  \n",
            "A  0.500325  0.934484  0.064437  \n",
            "B  0.520068  0.579242  0.096021  \n",
            "C  0.596816  0.644806  0.982981  \n",
            "D  0.677895  0.618512  0.391657  \n",
            "          0         1         2         3         4\n",
            "A  0.830247  0.689690  0.666691  0.771066  0.884135\n",
            "B  0.525229  0.095586  0.860900  0.397780  0.900534\n",
            "C  0.705630  0.826175  0.090242  0.712767  0.301339\n",
            "D  0.681351  0.099227  0.904664  0.821926  0.715261\n"
          ]
        }
      ]
    },
    {
      "cell_type": "code",
      "source": [
        "\"\"\"\n",
        "interoperabilidad entre DataFrame y Numpy\n",
        "Habrá muchas ocasiones en que necesitemos trabajar con DataFrame\n",
        "como elementos de numpy, principalmente para ejercer funciones\n",
        "numpy\n",
        "\"\"\"\n",
        "\n",
        "#Podemos usar funciones numpy en DF\n",
        "Exp = np.exp(d_f_1)\n",
        "print(Exp)\n",
        "Cos = np.cos(d_f_1)\n",
        "print(Cos)\n",
        "\n",
        "#También se puede transformar en un array (matriz)\n",
        "Matriz = np.asarray(d_f_1)\n",
        "print(Matriz)\n",
        "\n",
        "\"\"\"\n",
        "Sin embargo debemos recordar que DataFrame no es un sustituto\n",
        "de arrays, sino otro tipo de dato, dadas sus características\n",
        "\"\"\"\n",
        "\n"
      ],
      "metadata": {
        "colab": {
          "base_uri": "https://localhost:8080/",
          "height": 591
        },
        "id": "qz4WMYIidtvb",
        "outputId": "b625fc7e-d196-4fd1-9ec5-b85c55aa907d"
      },
      "execution_count": 12,
      "outputs": [
        {
          "output_type": "stream",
          "name": "stdout",
          "text": [
            "          A         B         C         D\n",
            "0  2.293885  1.690846  2.025123  1.976547\n",
            "1  1.993098  1.100303  2.284565  1.104317\n",
            "2  1.947781  2.365288  1.094439  2.471103\n",
            "3  2.162070  1.488516  2.039628  2.274877\n",
            "4  2.420890  2.460916  1.351667  2.044720\n",
            "5  1.917445  2.174907  1.564011  2.263419\n",
            "6  1.777881  1.167198  1.113885  2.437187\n",
            "7  1.649257  1.682142  1.816326  1.969728\n",
            "8  2.545898  1.784685  1.905617  1.856165\n",
            "9  1.066559  1.100782  2.672412  1.479431\n",
            "          A         B         C         D\n",
            "0  0.674694  0.865209  0.761203  0.776722\n",
            "1  0.771443  0.995435  0.677693  0.995081\n",
            "2  0.785872  0.651755  0.995931  0.617949\n",
            "3  0.717168  0.921923  0.756555  0.680812\n",
            "4  0.633958  0.621192  0.954940  0.754922\n",
            "5  0.795482  0.713030  0.901638  0.684502\n",
            "6  0.838962  0.988072  0.994189  0.628756\n",
            "7  0.877427  0.867785  0.827129  0.778894\n",
            "8  0.594234  0.836878  0.799217  0.814742\n",
            "9  0.997925  0.995394  0.554544  0.924278\n",
            "[[0.83024677 0.52522879 0.70563027 0.68135132]\n",
            " [0.68969007 0.09558598 0.82617542 0.09922732]\n",
            " [0.6666907  0.86089998 0.0902418  0.90466449]\n",
            " [0.7710662  0.3977798  0.7127674  0.82192604]\n",
            " [0.88413533 0.90053376 0.30133876 0.71526069]\n",
            " [0.65099341 0.77698572 0.44725378 0.81687639]\n",
            " [0.57542243 0.15460595 0.1078539  0.8908444 ]\n",
            " [0.50032512 0.52006816 0.59681579 0.67789536]\n",
            " [0.93448356 0.57924184 0.64480559 0.61851231]\n",
            " [0.06443731 0.09602108 0.98298146 0.39165746]]\n"
          ]
        },
        {
          "output_type": "execute_result",
          "data": {
            "text/plain": [
              "'\\nSin embargo debemos recordar que DataFrame no es un sustituto\\nde arrays, sino otro tipo de dato, dadas sus características\\n'"
            ],
            "application/vnd.google.colaboratory.intrinsic+json": {
              "type": "string"
            }
          },
          "metadata": {},
          "execution_count": 12
        }
      ]
    },
    {
      "cell_type": "code",
      "source": [
        "\"\"\"\n",
        "Pantalla de la consola \n",
        "Anteriormente se hizo un pequeño ejemplo sin \n",
        "explicación, pero si tenemos un archivo o DF demasiado grande y nos interesa \n",
        "ver una parte del archivo se puede hacer, asi como hacer otras cosas.\n",
        "\"\"\"\n",
        "\n",
        "print(iris)\n",
        "#Notese que usando print vemos el encabezado y la parte final del DF\n",
        "\n",
        "iris.info() #De esta forma obtenemos información técnica del Df\n",
        "\n",
        "#print(iris.to_string()) #Nos arroja el Df en forma de tabla\n",
        "\n",
        "\"\"\"\n",
        "Algo que se puede hacer en opciones es ajustar el ancho del display\n",
        "\"\"\"\n",
        "\n",
        "pd.set_option(\"display.width\", 80) #Ajusta el ancho del DF \n",
        "print(pd.DataFrame(np.random.rand(4,12)))"
      ],
      "metadata": {
        "colab": {
          "base_uri": "https://localhost:8080/"
        },
        "id": "WME3dgLuf1Je",
        "outputId": "8a7d3c6e-cd86-4db6-b2c2-8f640f3eccf4"
      },
      "execution_count": 28,
      "outputs": [
        {
          "output_type": "stream",
          "name": "stdout",
          "text": [
            "    lambda     array\n",
            "0        0  0.946724\n",
            "1        1  0.418644\n",
            "2        2  0.940738\n",
            "3        3  0.609142\n",
            "4        4  0.320297\n",
            "..     ...       ...\n",
            "95      95  0.474990\n",
            "96      96  0.706333\n",
            "97      97  0.208711\n",
            "98      98  0.090773\n",
            "99      99  0.301256\n",
            "\n",
            "[100 rows x 2 columns]\n",
            "<class 'pandas.core.frame.DataFrame'>\n",
            "RangeIndex: 100 entries, 0 to 99\n",
            "Data columns (total 2 columns):\n",
            " #   Column  Non-Null Count  Dtype  \n",
            "---  ------  --------------  -----  \n",
            " 0   lambda  100 non-null    int64  \n",
            " 1   array   100 non-null    float64\n",
            "dtypes: float64(1), int64(1)\n",
            "memory usage: 1.7 KB\n",
            "         0         1         2         3         4         5         6   \\\n",
            "0  0.750947  0.171125  0.513674  0.481392  0.194048  0.485938  0.767276   \n",
            "1  0.619779  0.114357  0.324612  0.974416  0.024743  0.478262  0.822941   \n",
            "2  0.561460  0.693507  0.926753  0.568675  0.661761  0.703332  0.390995   \n",
            "3  0.142507  0.493998  0.502584  0.429620  0.489968  0.140725  0.764350   \n",
            "\n",
            "         7         8         9         10        11  \n",
            "0  0.272955  0.074770  0.408521  0.727704  0.878313  \n",
            "1  0.342748  0.312440  0.320625  0.088168  0.261745  \n",
            "2  0.294437  0.366604  0.219913  0.736411  0.453662  \n",
            "3  0.728867  0.024571  0.629148  0.201862  0.778192  \n"
          ]
        }
      ]
    },
    {
      "cell_type": "code",
      "source": [
        "\"\"\"\n",
        "Acceso a atributos de columna DataFrame y finalización de IPython\n",
        "El nombre de las columnas de DF puede tomarse como un atributo\n",
        "\"\"\"\n",
        "\n",
        "d_f_1.A #Lo que hace es tratar como serie a la columna \n"
      ],
      "metadata": {
        "colab": {
          "base_uri": "https://localhost:8080/"
        },
        "id": "5HbH8QGfjKE-",
        "outputId": "9e781567-9fca-4f88-aafb-d02cea2a8a71"
      },
      "execution_count": 47,
      "outputs": [
        {
          "output_type": "execute_result",
          "data": {
            "text/plain": [
              "0    0.830247\n",
              "1    0.689690\n",
              "2    0.666691\n",
              "3    0.771066\n",
              "4    0.884135\n",
              "5    0.650993\n",
              "6    0.575422\n",
              "7    0.500325\n",
              "8    0.934484\n",
              "9    0.064437\n",
              "Name: A, dtype: float64"
            ]
          },
          "metadata": {},
          "execution_count": 47
        }
      ]
    }
  ]
}