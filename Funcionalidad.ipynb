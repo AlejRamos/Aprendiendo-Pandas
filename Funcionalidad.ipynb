{
  "nbformat": 4,
  "nbformat_minor": 0,
  "metadata": {
    "colab": {
      "name": "Funcionalidad",
      "provenance": [],
      "authorship_tag": "ABX9TyMy/yDbMVeu074M/VwgGMoJ",
      "include_colab_link": true
    },
    "kernelspec": {
      "name": "python3",
      "display_name": "Python 3"
    },
    "language_info": {
      "name": "python"
    }
  },
  "cells": [
    {
      "cell_type": "markdown",
      "metadata": {
        "id": "view-in-github",
        "colab_type": "text"
      },
      "source": [
        "<a href=\"https://colab.research.google.com/github/AlejRamos/Aprendiendo-Pandas/blob/main/Funcionalidad.ipynb\" target=\"_parent\"><img src=\"https://colab.research.google.com/assets/colab-badge.svg\" alt=\"Open In Colab\"/></a>"
      ]
    },
    {
      "cell_type": "code",
      "execution_count": 2,
      "metadata": {
        "colab": {
          "base_uri": "https://localhost:8080/"
        },
        "id": "eOgRHAipLPNM",
        "outputId": "4336a2a3-0ba2-4a80-f045-0cdf3ae96929"
      },
      "outputs": [
        {
          "output_type": "execute_result",
          "data": {
            "text/plain": [
              "DatetimeIndex(['2000-01-01', '2000-01-02', '2000-01-03', '2000-01-04',\n",
              "               '2000-01-05', '2000-01-06', '2000-01-07', '2000-01-08'],\n",
              "              dtype='datetime64[ns]', freq='D')"
            ]
          },
          "metadata": {},
          "execution_count": 2
        }
      ],
      "source": [
        "import numpy as np\n",
        "import pandas as pd\n",
        "\n",
        "\"\"\"\n",
        "url = https://pandas.pydata.org/docs/user_guide/basics.html\n",
        "\"\"\"\n",
        "\n",
        "index = pd.date_range(\"1/1/2000\", periods=8)\n",
        "index"
      ]
    },
    {
      "cell_type": "code",
      "source": [
        "\"\"\"\n",
        "Encabezado y Cola\n",
        "Sirve para ver el encabezado o parte final de una serie de datos\n",
        "de pandas. Por default se muestran 5 filas, pero también puede \n",
        "obtenerse a elección.\n",
        "\"\"\"\n",
        "\n",
        "serie_larga = pd.Series(np.random.randn(100))\n",
        "\n",
        "print(serie_larga.head()) #Muestra el encabezado\n",
        "\n",
        "print(serie_larga.tail(3)) #muestra la cola, solo los ultimos tres elementos\n",
        "\n",
        "#Aplica también con los DataFrame\n"
      ],
      "metadata": {
        "colab": {
          "base_uri": "https://localhost:8080/"
        },
        "id": "JI2_ND4DLiq0",
        "outputId": "9845ba2a-701d-44da-ac77-c5187f7cb287"
      },
      "execution_count": 3,
      "outputs": [
        {
          "output_type": "stream",
          "name": "stdout",
          "text": [
            "0    0.766007\n",
            "1   -1.398117\n",
            "2    1.049518\n",
            "3    0.242958\n",
            "4    0.248128\n",
            "dtype: float64\n",
            "97    1.062484\n",
            "98    0.844808\n",
            "99   -0.410258\n",
            "dtype: float64\n"
          ]
        }
      ]
    },
    {
      "cell_type": "code",
      "source": [
        "\"\"\"\n",
        "Atributos y datos subyacentes\n",
        "pandas tiene un un numero grandes de atriutos que facilitan el acceso a \n",
        "metadatos\n",
        "\"\"\"\n",
        "\n",
        "index = pd.date_range(\"1/1/2000\", periods=8)\n",
        "\n",
        "s = pd.Series(np.random.randn(5), index=[\"a\", \"b\", \"c\", \"d\", \"e\"])\n",
        "\n",
        "df = pd.DataFrame(np.random.randn(8, 3), index=index, columns=[\"A\", \"B\", \"C\"])\n",
        "\n",
        "print(df)\n",
        "\n",
        "print(df.shape) #Da la forma, número de filas y columnas respectivamente\n",
        "\n",
        "print(df.index) #Da los índices,\n",
        "\n",
        "df.columns = [x.lower() for x in df.columns] #Cambia las columnas por minusculas\n",
        "#Lo importante en la línea anterior es es el acceso a las columnas\n",
        "print(df.columns)\n",
        "\n",
        "print(df)"
      ],
      "metadata": {
        "colab": {
          "base_uri": "https://localhost:8080/"
        },
        "id": "8ORRBix6NCtb",
        "outputId": "3460dd6e-89d9-4b2f-e71d-62450d0fcb47"
      },
      "execution_count": 4,
      "outputs": [
        {
          "output_type": "stream",
          "name": "stdout",
          "text": [
            "                   A         B         C\n",
            "2000-01-01 -1.619713 -0.898281  1.112260\n",
            "2000-01-02 -0.940848 -0.918760  0.669601\n",
            "2000-01-03  0.140212 -0.938467  0.813083\n",
            "2000-01-04 -0.558094  0.023123  0.478864\n",
            "2000-01-05 -1.482977  1.271223  0.413201\n",
            "2000-01-06 -2.292497  0.592761  0.935322\n",
            "2000-01-07  1.716964  0.243417  0.873584\n",
            "2000-01-08 -0.822124 -0.169496  1.143191\n",
            "(8, 3)\n",
            "DatetimeIndex(['2000-01-01', '2000-01-02', '2000-01-03', '2000-01-04',\n",
            "               '2000-01-05', '2000-01-06', '2000-01-07', '2000-01-08'],\n",
            "              dtype='datetime64[ns]', freq='D')\n",
            "Index(['a', 'b', 'c'], dtype='object')\n",
            "                   a         b         c\n",
            "2000-01-01 -1.619713 -0.898281  1.112260\n",
            "2000-01-02 -0.940848 -0.918760  0.669601\n",
            "2000-01-03  0.140212 -0.938467  0.813083\n",
            "2000-01-04 -0.558094  0.023123  0.478864\n",
            "2000-01-05 -1.482977  1.271223  0.413201\n",
            "2000-01-06 -2.292497  0.592761  0.935322\n",
            "2000-01-07  1.716964  0.243417  0.873584\n",
            "2000-01-08 -0.822124 -0.169496  1.143191\n"
          ]
        }
      ]
    },
    {
      "cell_type": "code",
      "source": [
        "\"\"\"\n",
        "Propiedad de array\n",
        "\"\"\"\n",
        "\n",
        "s.array #Hace un array a la serie s\n",
        "\n",
        "#De la misma forma podemos acceder a los índices como un array\n",
        "s.index.array\n",
        "\n",
        "#Podemos transformarlo en un array de numpy\n",
        "s.to_numpy()\n",
        "\n",
        "#O usando\n",
        "np.asarray(s)\n",
        "\n",
        "\"\"\"\n",
        "to_numpy() nos da cierta libertad de elegir el tipo de dato, por ejemplo\n",
        "si consideramos fechas horarios, no podemos trabajar en numpy con esto, \n",
        "asi que tenemos dos posibilidades: object-dtype, datatime64[ns]\n",
        "\"\"\"\n",
        "ser = pd.Series(pd.date_range(\"2000\", periods=2, tz=\"CET\"))\n",
        "print(ser)\n",
        "\n",
        "print(ser.to_numpy(dtype=object)) #Tipo objecto\n",
        "\n",
        "print(ser.to_numpy(dtype=\"datetime64[ns]\"))\n"
      ],
      "metadata": {
        "colab": {
          "base_uri": "https://localhost:8080/"
        },
        "id": "0U3rma9dPaPm",
        "outputId": "035bc20a-2ae2-4beb-d67e-74f1e77dafa7"
      },
      "execution_count": 5,
      "outputs": [
        {
          "output_type": "stream",
          "name": "stdout",
          "text": [
            "0   2000-01-01 00:00:00+01:00\n",
            "1   2000-01-02 00:00:00+01:00\n",
            "dtype: datetime64[ns, CET]\n",
            "[Timestamp('2000-01-01 00:00:00+0100', tz='CET')\n",
            " Timestamp('2000-01-02 00:00:00+0100', tz='CET')]\n",
            "['1999-12-31T23:00:00.000000000' '2000-01-01T23:00:00.000000000']\n"
          ]
        }
      ]
    },
    {
      "cell_type": "code",
      "source": [
        "\"\"\"\n",
        "Si los datos de un DataFrame son de un mismo tipo, DataFrame.to_numpy()\n",
        "devolvera los datos\n",
        "\"\"\"\n",
        "\n",
        "print(df.to_numpy())\n",
        "\n",
        "\"\"\"\n",
        "Solo aplica para datos homogeneos, para aquellos datos heterogeneos\n",
        "el dtype se ajustará para acomodar los datos involucrados\n",
        "\"\"\""
      ],
      "metadata": {
        "colab": {
          "base_uri": "https://localhost:8080/",
          "height": 174
        },
        "id": "kIUz7GTXZ5rV",
        "outputId": "f1002f1b-269e-4785-c5fd-1fca1e1dbf42"
      },
      "execution_count": 6,
      "outputs": [
        {
          "output_type": "stream",
          "name": "stdout",
          "text": [
            "[[-1.6197129  -0.89828146  1.11225971]\n",
            " [-0.94084755 -0.91876025  0.66960064]\n",
            " [ 0.1402123  -0.93846688  0.81308301]\n",
            " [-0.55809409  0.02312319  0.47886403]\n",
            " [-1.48297741  1.27122346  0.41320087]\n",
            " [-2.2924966   0.59276075  0.93532224]\n",
            " [ 1.71696431  0.24341728  0.87358368]\n",
            " [-0.82212403 -0.16949589  1.14319098]]\n"
          ]
        },
        {
          "output_type": "execute_result",
          "data": {
            "text/plain": [
              "'\\nSolo aplica para datos homogeneos, para aquellos datos heterogeneos\\nel dtype se ajustará para acomodar los datos involucrados\\n'"
            ],
            "application/vnd.google.colaboratory.intrinsic+json": {
              "type": "string"
            }
          },
          "metadata": {},
          "execution_count": 6
        }
      ]
    },
    {
      "cell_type": "code",
      "source": [
        "\"\"\"\n",
        "Operaciones binarias Flexibles\n",
        "\"\"\"\n",
        "\n",
        "\"\"\"\n",
        "Comportamiento de coincidencia / transmisión\n",
        "DataFrame tiene los métodos add(), sub(), mul(), div() y funciones \n",
        "relacionadas  radd(), rsub(), … para realizar operaciones binarias.\n",
        "\"\"\"\n",
        "\n",
        "df1 = pd.DataFrame(\n",
        "    {\n",
        "        \"one\": pd.Series(np.random.randn(3), index=[\"a\", \"b\", \"c\"]),\n",
        "        \"two\": pd.Series(np.random.randn(4), index=[\"a\", \"b\", \"c\", \"d\"]),\n",
        "        \"three\": pd.Series(np.random.randn(3), index=[\"b\", \"c\", \"d\"]),\n",
        "    }\n",
        ")\n",
        "print(df1)\n",
        "\n",
        "row = df1.iloc[1]\n",
        "print(row)\n",
        "\n",
        "column = df1[\"two\"]\n",
        "print(column)\n",
        "\n",
        "#con sub se sustrae una determinada fila, en este caso columna por columna\n",
        "print(df1.sub(row, axis=\"columns\"))\n",
        "#Sustrae determinada fila, fila a fila\n",
        "print(df1.sub(column, axis=\"index\"))\n",
        "#El 1 en axis hace lo mismo que columns, y 0 lo que index\n",
        "print(df1.sub(row, axis=1))\n",
        "\n",
        "#Usando add, aplica igual pero aquí se agrega\n",
        "print(df1.add(row, axis=\"columns\"))\n",
        "\n",
        "#Usando mult(), se multiplica\n",
        "print(df1.mul(row, axis=\"columns\"))\n",
        "\n",
        "#Finalmente div(), divide\n",
        "print(df1.div(row, axis=\"columns\"))"
      ],
      "metadata": {
        "colab": {
          "base_uri": "https://localhost:8080/"
        },
        "id": "0TQt0gvhbFhw",
        "outputId": "5d5f203e-6154-49c4-ba44-e18700d593c3"
      },
      "execution_count": 7,
      "outputs": [
        {
          "output_type": "stream",
          "name": "stdout",
          "text": [
            "        one       two     three\n",
            "a  1.384632 -0.300901       NaN\n",
            "b -0.253354 -0.555348  1.424473\n",
            "c  0.908533  0.813484 -1.014630\n",
            "d       NaN -1.236803  1.579523\n",
            "one     -0.253354\n",
            "two     -0.555348\n",
            "three    1.424473\n",
            "Name: b, dtype: float64\n",
            "a   -0.300901\n",
            "b   -0.555348\n",
            "c    0.813484\n",
            "d   -1.236803\n",
            "Name: two, dtype: float64\n",
            "        one       two     three\n",
            "a  1.637986  0.254447       NaN\n",
            "b  0.000000  0.000000  0.000000\n",
            "c  1.161886  1.368832 -2.439103\n",
            "d       NaN -0.681456  0.155050\n",
            "        one  two     three\n",
            "a  1.685533  0.0       NaN\n",
            "b  0.301994  0.0  1.979821\n",
            "c  0.095049  0.0 -1.828114\n",
            "d       NaN  0.0  2.816327\n",
            "        one       two     three\n",
            "a  1.637986  0.254447       NaN\n",
            "b  0.000000  0.000000  0.000000\n",
            "c  1.161886  1.368832 -2.439103\n",
            "d       NaN -0.681456  0.155050\n",
            "        one       two     three\n",
            "a  1.131278 -0.856249       NaN\n",
            "b -0.506707 -1.110696  2.848946\n",
            "c  0.655179  0.258136  0.409843\n",
            "d       NaN -1.792151  3.003996\n",
            "        one       two     three\n",
            "a -0.350802  0.167105       NaN\n",
            "b  0.064188  0.308411  2.029123\n",
            "c -0.230180 -0.451766 -1.445313\n",
            "d       NaN  0.686856  2.249988\n",
            "        one       two     three\n",
            "a -5.465213  0.541825       NaN\n",
            "b  1.000000  1.000000  1.000000\n",
            "c -3.586025 -1.464818 -0.712285\n",
            "d       NaN  2.227079  1.108847\n"
          ]
        }
      ]
    },
    {
      "cell_type": "code",
      "source": [
        "\"\"\"\n",
        "Más aun, se pueden alinear un nivel de un DataFrame multindexado\n",
        "con una serie\n",
        "\"\"\"\n",
        "\n",
        "dfmi = df1.copy()\n",
        "\n",
        "dfmi.index = pd.MultiIndex.from_tuples(\n",
        "    [(1, \"a\"), (1, \"b\"), (1, \"c\"), (2, \"a\")], names=[\"first\", \"second\"]\n",
        ")\n",
        "\n",
        "print(dfmi)\n",
        "#\n",
        "print(dfmi.sub(column, axis=0, level=\"second\"))\n"
      ],
      "metadata": {
        "colab": {
          "base_uri": "https://localhost:8080/"
        },
        "id": "r1jnh2GKn7hX",
        "outputId": "e7c22450-8a19-461a-b29a-3cf89373a238"
      },
      "execution_count": 8,
      "outputs": [
        {
          "output_type": "stream",
          "name": "stdout",
          "text": [
            "                   one       two     three\n",
            "first second                              \n",
            "1     a       1.384632 -0.300901       NaN\n",
            "      b      -0.253354 -0.555348  1.424473\n",
            "      c       0.908533  0.813484 -1.014630\n",
            "2     a            NaN -1.236803  1.579523\n",
            "                   one       two     three\n",
            "first second                              \n",
            "1     a       1.685533  0.000000       NaN\n",
            "      b       0.301994  0.000000  1.979821\n",
            "      c       0.095049  0.000000 -1.828114\n",
            "2     a            NaN -0.935902  1.880424\n"
          ]
        }
      ]
    },
    {
      "cell_type": "code",
      "source": [
        "\"\"\"\n",
        "A Series también se le aplica la función divmod()\n",
        "Esta función devuleve floor division, y a su vez la función modulo,\n",
        "entonces se regresa dos tuplas del mismo tipo.\n",
        "\"\"\"\n",
        "\n",
        "s = pd.Series(np.arange(10))\n",
        "\n",
        "#En divmod, la primer variable es la serie a dividir, el segundo entre que\n",
        "div, res = divmod(s,3)\n",
        "\n",
        "print(div,res)\n",
        "\n",
        "print()\n",
        "\n",
        "dx = pd.Index(np.arange(10))\n",
        "\n",
        "divx, resx = divmod(dx,3)\n",
        "\n",
        "print(divx,resx)\n",
        "\n",
        "#También existe la posibilidad de dividir elemento a elemento\n",
        "\n",
        "dive, rese = divmod(s,[1,1,2,3,4,5,6,7,8,9])\n",
        "\n",
        "print(dive, rese)"
      ],
      "metadata": {
        "colab": {
          "base_uri": "https://localhost:8080/"
        },
        "id": "axd6B4YTp4IJ",
        "outputId": "fb373a62-ae85-49fb-b47c-96fa262d1057"
      },
      "execution_count": 9,
      "outputs": [
        {
          "output_type": "stream",
          "name": "stdout",
          "text": [
            "0    0\n",
            "1    0\n",
            "2    0\n",
            "3    1\n",
            "4    1\n",
            "5    1\n",
            "6    2\n",
            "7    2\n",
            "8    2\n",
            "9    3\n",
            "dtype: int64 0    0\n",
            "1    1\n",
            "2    2\n",
            "3    0\n",
            "4    1\n",
            "5    2\n",
            "6    0\n",
            "7    1\n",
            "8    2\n",
            "9    0\n",
            "dtype: int64\n",
            "\n",
            "Int64Index([0, 0, 0, 1, 1, 1, 2, 2, 2, 3], dtype='int64') Int64Index([0, 1, 2, 0, 1, 2, 0, 1, 2, 0], dtype='int64')\n",
            "0    0\n",
            "1    1\n",
            "2    1\n",
            "3    1\n",
            "4    1\n",
            "5    1\n",
            "6    1\n",
            "7    1\n",
            "8    1\n",
            "9    1\n",
            "dtype: int64 0    0\n",
            "1    0\n",
            "2    0\n",
            "3    0\n",
            "4    0\n",
            "5    0\n",
            "6    0\n",
            "7    0\n",
            "8    0\n",
            "9    0\n",
            "dtype: int64\n"
          ]
        }
      ]
    },
    {
      "cell_type": "code",
      "source": [
        "\"\"\"\n",
        "Datos Faltantes / operaciones con fill values\n",
        "Las funciones aritmeticas tienen la opción de ingresar un fill_value,\n",
        "en modo de sustitución en mas de un valor que falta.\n",
        "\"\"\"\n",
        "\n",
        "df1\n",
        "\n",
        "df2 = pd.DataFrame(\n",
        "    {\n",
        "        \"one\": pd.Series(np.random.randn(4), index=[\"a\", \"b\", \"c\",\"d\"]),\n",
        "        \"two\": pd.Series(np.random.randn(4), index=[\"a\", \"b\", \"c\", \"d\"]),\n",
        "        \"three\": pd.Series(np.random.randn(3), index=[\"b\", \"c\", \"d\"]),\n",
        "    }\n",
        ")\n",
        "\n",
        "#En este caso df1 tiene dos NaN y df2 solo un\n",
        "print(df1)\n",
        "print(df2)\n",
        "\n",
        "#Ahora al sumarlos\n",
        "print(df1+df2)\n",
        "#Observamos que el resultado muestra dos NaN\n",
        "\n",
        "#Usando un fill_value\n",
        "print(df1.add(df2,fill_value=0))\n",
        "#En este caso un NaN, inferior izquierdo en df1 tomo el valor 0"
      ],
      "metadata": {
        "id": "7EQZ5Tw8p85D",
        "colab": {
          "base_uri": "https://localhost:8080/"
        },
        "outputId": "4931902a-119d-45a1-e2f8-9009a141690b"
      },
      "execution_count": 10,
      "outputs": [
        {
          "output_type": "stream",
          "name": "stdout",
          "text": [
            "        one       two     three\n",
            "a  1.384632 -0.300901       NaN\n",
            "b -0.253354 -0.555348  1.424473\n",
            "c  0.908533  0.813484 -1.014630\n",
            "d       NaN -1.236803  1.579523\n",
            "        one       two     three\n",
            "a  0.429662  0.495396       NaN\n",
            "b -1.061184 -0.959562 -0.643073\n",
            "c  0.739723  0.118317  0.537128\n",
            "d -0.636306 -3.380374  1.737451\n",
            "        one       two     three\n",
            "a  1.814295  0.194495       NaN\n",
            "b -1.314537 -1.514910  0.781400\n",
            "c  1.648256  0.931800 -0.477502\n",
            "d       NaN -4.617178  3.316974\n",
            "        one       two     three\n",
            "a  1.814295  0.194495       NaN\n",
            "b -1.314537 -1.514910  0.781400\n",
            "c  1.648256  0.931800 -0.477502\n",
            "d -0.636306 -4.617178  3.316974\n"
          ]
        }
      ]
    },
    {
      "cell_type": "code",
      "source": [
        "\"\"\"\n",
        "Comparaciones binarias\n",
        "Tenemos también métodos de comparacion, eq, ne, lt, gt, le y ge\n",
        "cuyo comportamiento es análogo a las operaciones binarias aritmeticas.\n",
        "El resultado es un booleano\n",
        "\"\"\"\n",
        "\n",
        "#Comparación de igualdad\n",
        "print(df1.eq(df1))\n",
        "\n",
        "#Comparación de desigualdad\n",
        "print(df1.ne(df1))\n",
        "\n",
        "#Comparación menor que\n",
        "print(df1.lt(df2))\n",
        "\n",
        "#Comparación mayor que\n",
        "print(df1.gt(df2))\n",
        "\n",
        "#Comparación menor que, en sentido opuesto\n",
        "print(df1.le(df2))\n",
        "\n",
        "#Comparación mayor que, en sentido opuesto\n",
        "print(df1.ge(df2))"
      ],
      "metadata": {
        "colab": {
          "base_uri": "https://localhost:8080/"
        },
        "id": "ZyRrDIdt8GPw",
        "outputId": "f71f1428-9852-4c0d-a5ee-7b68239ff184"
      },
      "execution_count": 11,
      "outputs": [
        {
          "output_type": "stream",
          "name": "stdout",
          "text": [
            "     one   two  three\n",
            "a   True  True  False\n",
            "b   True  True   True\n",
            "c   True  True   True\n",
            "d  False  True   True\n",
            "     one    two  three\n",
            "a  False  False   True\n",
            "b  False  False  False\n",
            "c  False  False  False\n",
            "d   True  False  False\n",
            "     one    two  three\n",
            "a  False   True  False\n",
            "b  False  False  False\n",
            "c  False  False   True\n",
            "d  False  False   True\n",
            "     one    two  three\n",
            "a   True  False  False\n",
            "b   True   True   True\n",
            "c   True   True  False\n",
            "d  False   True  False\n",
            "     one    two  three\n",
            "a  False   True  False\n",
            "b  False  False  False\n",
            "c  False  False   True\n",
            "d  False  False   True\n",
            "     one    two  three\n",
            "a   True  False  False\n",
            "b   True   True   True\n",
            "c   True   True  False\n",
            "d  False   True  False\n"
          ]
        }
      ]
    },
    {
      "cell_type": "code",
      "source": [
        "\"\"\"\n",
        "Reducciones booleanas\n",
        "Se pueden aplicar reducciones, empty, any(), all() y bool()\n",
        "como forma de resumir. El resultado es un boolean\n",
        "\"\"\"\n",
        "\n",
        "#Vacio? Nos dice si un conjunto es vacio\n",
        "df1.empty\n",
        "\n",
        "#Todos los elementos, indica si todos cumplen cierta condición\n",
        "#En las filas del DataFrame\n",
        "print((df1>1).all())\n",
        "\n",
        "#Alguno, indica si algun elemento de las filas del DF cumple la condición\n",
        "print((df1>0).any())\n",
        "\n",
        "#Se puede reducir aun más el resultado a un solo booleano\n",
        "print((df1>0).any().any())"
      ],
      "metadata": {
        "colab": {
          "base_uri": "https://localhost:8080/"
        },
        "id": "CT4TYBVx_YHc",
        "outputId": "b7b84be1-20d3-4b4a-8504-643ef17f3c7c"
      },
      "execution_count": 12,
      "outputs": [
        {
          "output_type": "stream",
          "name": "stdout",
          "text": [
            "one      False\n",
            "two      False\n",
            "three    False\n",
            "dtype: bool\n",
            "one      True\n",
            "two      True\n",
            "three    True\n",
            "dtype: bool\n",
            "True\n"
          ]
        }
      ]
    },
    {
      "cell_type": "code",
      "source": [
        "\"\"\"\n",
        "Comparación si objetos son equivalentes\n",
        "Estamos de acuerdo que existen varias formas de llegar a un mismo resultado\n",
        "Ya vimos que con comparaciones booleanas se puede afirmar o negar cierta\n",
        "condición, sin embargo cuando se tata de equivalencias, es decir ==, estos \n",
        "no funcionan, por tanto se usa otro método\n",
        "\"\"\"\n",
        "\n",
        "print(df1 + df1 == df1*2 )\n",
        "#Como resultado aparecera un DataFrame que entrada a entrada dice si es o no\n",
        "#equivalente. Nótese que aparecen False, dado que NaN no se comparan como iguales\n",
        "print(np.NaN == np.NaN)\n",
        "\n",
        "print((df1 + df1 == df1*2).all())\n",
        "#En este devuelve una Serie, pero no afirma la equivalencia\n",
        "\n",
        "#Para poder hacer comparaciones los DataFrame tienen que ser del mismo tipo \n",
        "# y del mismo orden \n",
        "df3 = pd.DataFrame({\"col\": [\"foo\", 0, np.nan]})\n",
        "\n",
        "df4 = pd.DataFrame({\"col\": [np.nan, 0, \"foo\"]}, index=[2, 1, 0])\n",
        "\n",
        "print(df1.equals(df2))\n"
      ],
      "metadata": {
        "id": "nA_593TA_nTM",
        "colab": {
          "base_uri": "https://localhost:8080/"
        },
        "outputId": "3bcf923e-d35c-46ae-d195-89b4e187e70d"
      },
      "execution_count": 13,
      "outputs": [
        {
          "output_type": "stream",
          "name": "stdout",
          "text": [
            "     one   two  three\n",
            "a   True  True  False\n",
            "b   True  True   True\n",
            "c   True  True   True\n",
            "d  False  True   True\n",
            "False\n",
            "one      False\n",
            "two       True\n",
            "three    False\n",
            "dtype: bool\n",
            "False\n"
          ]
        }
      ]
    },
    {
      "cell_type": "code",
      "source": [
        "\"\"\"\n",
        "Comparando como objetos array\n",
        "Puede realizar cómodamente comparaciones a nivel de elementos al comparar \n",
        "una estructura de datos pandas con un valor escalar\n",
        "\"\"\"\n",
        "\n",
        "#Ésta sería la forma convencional en pandas\n",
        "print(pd.Series([\"foo\", \"bar\", \"baz\"]) == \"foo\")\n",
        "\n",
        "#Si queremos compararlo como un elemento array\n",
        "print(pd.Index([\"foo\", \"bar\", \"baz\"]) == \"foo\")\n",
        "\n",
        "\"\"\"\n",
        "Pandas también maneja comparaciones de tipos matrices de la misma\n",
        "magnitud\n",
        "\"\"\"\n",
        "\n",
        "#En el siguiente ejemplo comparamos una Serie de panda con un Index\n",
        "print(pd.Series([\"foo\", \"bar\", \"baz\"]) == pd.Index([\"foo\", \"bar\", \"qux\"]))\n",
        "\n",
        "#El siguiente ejemplo compara una Serie de panda con un array de numpy\n",
        "print(pd.Series([\"foo\", \"bar\", \"baz\"]) == np.array([\"foo\", \"bar\", \"qux\"]))\n",
        "\n",
        "#Al intentar comparar dos onjetos de distinto tamaño habra error\n",
        "\n",
        "#Como nota, es distinto la comparacion de numpy \n",
        "print(np.array([1, 2, 3]) == np.array([2]))\n",
        "\n",
        "#Y retornará falso cuando la comparación no se pueda hacer\n",
        "print(np.array([1, 2, 3]) == np.array([1, 2]))"
      ],
      "metadata": {
        "colab": {
          "base_uri": "https://localhost:8080/"
        },
        "id": "NJ95FscjarJM",
        "outputId": "cefaa4fd-a656-4b46-d456-acc0c2c0b3c7"
      },
      "execution_count": 14,
      "outputs": [
        {
          "output_type": "stream",
          "name": "stdout",
          "text": [
            "0     True\n",
            "1    False\n",
            "2    False\n",
            "dtype: bool\n",
            "[ True False False]\n",
            "0     True\n",
            "1     True\n",
            "2    False\n",
            "dtype: bool\n",
            "0     True\n",
            "1     True\n",
            "2    False\n",
            "dtype: bool\n",
            "[False  True False]\n",
            "False\n"
          ]
        },
        {
          "output_type": "stream",
          "name": "stderr",
          "text": [
            "/usr/local/lib/python3.7/dist-packages/ipykernel_launcher.py:30: DeprecationWarning: elementwise comparison failed; this will raise an error in the future.\n"
          ]
        }
      ]
    },
    {
      "cell_type": "code",
      "source": [
        "\"\"\"\n",
        "Combinacion de conjuntos superpuestos\n",
        "Un problema al que nos podemos enfrentar es el combinar dos conjuntos\n",
        "de datos, en done queremos darle prioridad a uno por cualquier razon, \n",
        "esta combinación de datos se puede hacer entre dos datos de distinto\n",
        "tamaño.\n",
        "\"\"\"\n",
        "\n",
        "df5 = pd.DataFrame(\n",
        "    {\"A\": [1.0, np.nan, 3.0, 5.0, np.nan], \"B\": [np.nan, 2.0, 3.0, np.nan, 6.0]}\n",
        ")\n",
        "\n",
        "df6  = pd.DataFrame(\n",
        "    {\n",
        "        \"A\": [5.0, 2.0, 4.0, np.nan, 3.0, 7.0],\n",
        "        \"B\": [np.nan, np.nan, 3.0, 4.0, 6.0, 8.0],\n",
        "    }\n",
        ")\n",
        "\n",
        "#Ambos objetos son un Data Frame de distintos tamaños\n",
        "\n",
        "print(df5)\n",
        "\n",
        "print(df6)\n",
        "\n",
        "#En este ejemplo se dará prioridad a df5\n",
        "df5.combine_first(df6)\n",
        "\n",
        "\"\"\"\n",
        "Nótese que en los elementos NaN, aunque tenga prioridad df5, los elementos\n",
        "se combinan de tal forma que aparezcan la menor cantidad posible de NaN.\n",
        "\"\"\""
      ],
      "metadata": {
        "colab": {
          "base_uri": "https://localhost:8080/",
          "height": 261
        },
        "id": "LTciFs9HhYeL",
        "outputId": "247d5d73-8a7a-4258-b994-f57da471f3ce"
      },
      "execution_count": 24,
      "outputs": [
        {
          "output_type": "stream",
          "name": "stdout",
          "text": [
            "     A    B\n",
            "0  1.0  NaN\n",
            "1  NaN  2.0\n",
            "2  3.0  3.0\n",
            "3  5.0  NaN\n",
            "4  NaN  6.0\n",
            "     A    B\n",
            "0  5.0  NaN\n",
            "1  2.0  NaN\n",
            "2  4.0  3.0\n",
            "3  NaN  4.0\n",
            "4  3.0  6.0\n",
            "5  7.0  8.0\n"
          ]
        },
        {
          "output_type": "execute_result",
          "data": {
            "text/plain": [
              "'\\nNótese que en los elementos NaN, aunque tenga prioridad df5, los elementos\\nse combinan de tal forma que aparezcan la menor cantidad posible de NaN.\\n'"
            ],
            "application/vnd.google.colaboratory.intrinsic+json": {
              "type": "string"
            }
          },
          "metadata": {},
          "execution_count": 24
        }
      ]
    },
    {
      "cell_type": "code",
      "source": [
        ""
      ],
      "metadata": {
        "id": "8wamJb-mwc8e"
      },
      "execution_count": null,
      "outputs": []
    }
  ]
}