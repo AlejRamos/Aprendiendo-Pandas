{
  "nbformat": 4,
  "nbformat_minor": 0,
  "metadata": {
    "colab": {
      "name": "Funcionalidad_3",
      "provenance": [],
      "collapsed_sections": [],
      "authorship_tag": "ABX9TyNZLjKe9C/w1at76jshAN74",
      "include_colab_link": true
    },
    "kernelspec": {
      "name": "python3",
      "display_name": "Python 3"
    },
    "language_info": {
      "name": "python"
    }
  },
  "cells": [
    {
      "cell_type": "markdown",
      "metadata": {
        "id": "view-in-github",
        "colab_type": "text"
      },
      "source": [
        "<a href=\"https://colab.research.google.com/github/AlejRamos/Aprendiendo-Pandas/blob/main/Funcionalidad_3.ipynb\" target=\"_parent\"><img src=\"https://colab.research.google.com/assets/colab-badge.svg\" alt=\"Open In Colab\"/></a>"
      ]
    },
    {
      "cell_type": "code",
      "execution_count": 1,
      "metadata": {
        "colab": {
          "base_uri": "https://localhost:8080/"
        },
        "id": "np_j88OtQnNT",
        "outputId": "acc2cc28-61cb-4269-ca89-ff3cbc5a8a92"
      },
      "outputs": [
        {
          "output_type": "stream",
          "name": "stdout",
          "text": [
            "La información se obtuvo de\n",
            "https://pandas.pydata.org/docs/user_guide/basics.html#function-application\n",
            "\n"
          ]
        }
      ],
      "source": [
        "import numpy as np\n",
        "import pandas as pd\n",
        "\n",
        "print(\"La información se obtuvo de\\nhttps://pandas.pydata.org/docs/user_guide/basics.html#function-application\\n\")"
      ]
    },
    {
      "cell_type": "code",
      "source": [
        "\"\"\"\n",
        "Aplicacion de Función\n",
        "\"\"\"\n",
        "\n",
        "print(\"Para aplicar funciones propias o de otras librerias a objetos\",\n",
        "      \"\\npandas se deben tener en cuenta tres métodos que veremos en \",\n",
        "      \"\\nesta sección.\",\n",
        "      \"\\nEl método apropiado a usar dependera de si la función operará en\",\n",
        "      \"\\nun objeto Series o DataFrame entero, fila o columna, o en elemento\")"
      ],
      "metadata": {
        "colab": {
          "base_uri": "https://localhost:8080/"
        },
        "id": "ugpmxrzbQ3Bk",
        "outputId": "4aff0523-e97b-4805-9afe-07201b7f17c4"
      },
      "execution_count": 2,
      "outputs": [
        {
          "output_type": "stream",
          "name": "stdout",
          "text": [
            "Para aplicar funciones propias o de otras librerias a objetos \n",
            "pandas se deben tener en cuenta tres métodos que veremos en  \n",
            "esta sección. \n",
            "El método apropiado a usar dependera de si la función operará en \n",
            "un objeto Series o DataFrame entero, fila o columna, o en elemento\n"
          ]
        }
      ]
    },
    {
      "cell_type": "code",
      "source": [
        "\n",
        "\"\"\"\n",
        "Tablewise function application\n",
        "DataFrame y Series pueden ser pasados a funciones. Sin embargo, si la\n",
        "función necesita ser llamada en una cadena se debe considerar usar el \n",
        "método pipe().\n",
        "\"\"\"\n",
        "\n",
        "#Hacemos una función cuyo parametro es un DataFrame\n",
        "def extract_city_name(df):\n",
        "    \"\"\"\n",
        "    Chicago, IL -> Chicago for city_name column\n",
        "    \"\"\"\n",
        "    df[\"city_name\"] = df[\"city_and_code\"].str.split(\",\").str.get(0)\n",
        "    return df\n",
        "\n",
        "def add_country_name(df, country_name=None):\n",
        "    \"\"\"\n",
        "    Chicago -> Chicago-US for city_name column\n",
        "    \"\"\"\n",
        "    col = \"city_name\"\n",
        "    df[\"city_and_country\"] = df[col] + country_name\n",
        "    return df\n",
        "\n",
        "\n",
        "#Ambas funciones devuelven un DataFrame\n",
        "\n",
        "df_p = pd.DataFrame({\"city_and_code\": [\"Chicago, IL\"]})\n",
        "\n",
        "#Ahora aplicamos en forma de cadena las funciones\n",
        "print(add_country_name(extract_city_name(df_p), country_name=\"US\"))\n",
        "\n",
        "#Nótese que la linea anterior es equivalente a\n",
        "print(\"\\n\",\n",
        "      df_p.pipe(extract_city_name).pipe(add_country_name, country_name=\"US\"))"
      ],
      "metadata": {
        "colab": {
          "base_uri": "https://localhost:8080/"
        },
        "id": "GxwcAbXtUc9w",
        "outputId": "bc7e0f72-19e6-47ff-b94f-a183ff9269e2"
      },
      "execution_count": 3,
      "outputs": [
        {
          "output_type": "stream",
          "name": "stdout",
          "text": [
            "  city_and_code city_name city_and_country\n",
            "0   Chicago, IL   Chicago        ChicagoUS\n",
            "\n",
            "   city_and_code city_name city_and_country\n",
            "0   Chicago, IL   Chicago        ChicagoUS\n"
          ]
        }
      ]
    },
    {
      "cell_type": "code",
      "source": [
        "print(\"Existe un ejemplo más preciso en\\nhttps://pandas.pydata.org/docs/user_guide/basics.html#row-or-column-wise-function-application\\n\")"
      ],
      "metadata": {
        "colab": {
          "base_uri": "https://localhost:8080/"
        },
        "id": "8Ru9JlQMCfhA",
        "outputId": "aa7cfee5-e37a-4085-c0c9-0e03cbdad625"
      },
      "execution_count": 4,
      "outputs": [
        {
          "output_type": "stream",
          "name": "stdout",
          "text": [
            "Existe un ejemplo más preciso en\n",
            "https://pandas.pydata.org/docs/user_guide/basics.html#row-or-column-wise-function-application\n",
            "\n"
          ]
        }
      ]
    },
    {
      "cell_type": "code",
      "source": [
        "\"\"\"\n",
        "Row or column-wise function application\n",
        "Funciones arbitrarias pueden ser aplicados alrededor de los axes del\n",
        "DataFrame usando el método apply(), el cual, como los métodos de estadistica\n",
        "descriptiva toma un axes optional como argumento.\n",
        "\"\"\"\n",
        "\n",
        "df = pd.DataFrame(\n",
        "    {\n",
        "        \"one\": pd.Series(np.random.randn(3), index=[\"a\", \"b\", \"c\"]),\n",
        "        \"two\": pd.Series(np.random.randn(4), index=[\"a\", \"b\", \"c\", \"d\"]),\n",
        "        \"three\": pd.Series(np.random.randn(3), index=[\"b\", \"c\", \"d\"]),\n",
        "    }\n",
        ")\n",
        "\n",
        "\n",
        "print(\"Del DataFrame\\n\",\n",
        "      df,\n",
        "      \"\\nUsando él metodo apply() y np.mean se obtiene:\\n\",\n",
        "      df.apply(np.mean),\n",
        "      \"\\nEl método apply lo que hace es aplicar otro método al data frame, en este caso\\nlo que se obtiene es el mean de las columnas usando numpy.\\nSe saltan los NaN\")\n",
        "\n",
        "#Al aplicar numpy podemos elegir tambien los axes.\n",
        "print(\"\\n\\nSacando el mean usando numpy y apply() a los axes\\n\",\n",
        "      df.apply(np.mean, axis=1))\n",
        "\n",
        "#Por supuesto también se pueden aplicar funciones\n",
        "print(\"\\n\\nUsando una función tal que, obtenga el máximo valor y mínimo valor\\ny haga la resta el resultado es:\\n\",\n",
        "      df.apply(lambda x: x.max() - x.min()),\n",
        "      \"\\nEsta función se hizo sobre las columnas\\nTambién se puede obtener en los axes:\\n\",\n",
        "      df.apply(lambda x: x.max() - x.min(),axis=1))\n",
        "\n",
        "#También se pueden usar otros métodos numpy\n",
        "print(\"\\n\\nUsando cumsum\\n\",\n",
        "      df.apply(np.cumsum),\n",
        "      \"\\nUsando np.exp()\\n\",\n",
        "      df.apply(np.exp))"
      ],
      "metadata": {
        "colab": {
          "base_uri": "https://localhost:8080/"
        },
        "id": "82bj06tG5wOk",
        "outputId": "f1f72297-6afc-43d5-d21b-1020369b8c41"
      },
      "execution_count": 5,
      "outputs": [
        {
          "output_type": "stream",
          "name": "stdout",
          "text": [
            "Del DataFrame\n",
            "         one       two     three\n",
            "a  1.005722 -0.353850       NaN\n",
            "b -0.959047  2.036098 -0.358200\n",
            "c  0.882666 -0.345923 -0.206472\n",
            "d       NaN  0.394628 -0.987622 \n",
            "Usando él metodo apply() y np.mean se obtiene:\n",
            " one      0.309780\n",
            "two      0.432738\n",
            "three   -0.517432\n",
            "dtype: float64 \n",
            "El método apply lo que hace es aplicar otro método al data frame, en este caso\n",
            "lo que se obtiene es el mean de las columnas usando numpy.\n",
            "Se saltan los NaN\n",
            "\n",
            "\n",
            "Sacando el mean usando numpy y apply() a los axes\n",
            " a    0.325936\n",
            "b    0.239617\n",
            "c    0.110090\n",
            "d   -0.296497\n",
            "dtype: float64\n",
            "\n",
            "\n",
            "Usando una función tal que, obtenga el máximo valor y mínimo valor\n",
            "y haga la resta el resultado es:\n",
            " one      1.964770\n",
            "two      2.389948\n",
            "three    0.781151\n",
            "dtype: float64 \n",
            "Esta función se hizo sobre las columnas\n",
            "También se puede obtener en los axes:\n",
            " a    1.359573\n",
            "b    2.995145\n",
            "c    1.228589\n",
            "d    1.382251\n",
            "dtype: float64\n",
            "\n",
            "\n",
            "Usando cumsum\n",
            "         one       two     three\n",
            "a  1.005722 -0.353850       NaN\n",
            "b  0.046675  1.682247 -0.358200\n",
            "c  0.929341  1.336324 -0.564672\n",
            "d       NaN  1.730952 -1.552295 \n",
            "Usando np.exp()\n",
            "         one       two     three\n",
            "a  2.733882  0.701980       NaN\n",
            "b  0.383258  7.660655  0.698933\n",
            "c  2.417335  0.707567  0.813449\n",
            "d       NaN  1.483833  0.372461\n"
          ]
        }
      ]
    },
    {
      "cell_type": "code",
      "source": [
        "\"\"\"\n",
        "Continuando con apply(), tiene la particularidad de poder usarse\n",
        "strings como argumentos. Veamos los ejemplos a continuación\n",
        "\"\"\"\n",
        "\n",
        "print(\"El DataFrame\\n\",\n",
        "      df,\n",
        "      \"\\nTiene como media en las columnas:\\n\",\n",
        "      df.apply(\"mean\"),\n",
        "      \"\\ny en las filas:\\n\",\n",
        "      df.apply(\"mean\",axis=1))"
      ],
      "metadata": {
        "id": "cX0i9FfAGBE-",
        "colab": {
          "base_uri": "https://localhost:8080/"
        },
        "outputId": "c853f1b8-d44e-4fd9-976f-16c8fdb0e804"
      },
      "execution_count": 6,
      "outputs": [
        {
          "output_type": "stream",
          "name": "stdout",
          "text": [
            "El DataFrame\n",
            "         one       two     three\n",
            "a  1.005722 -0.353850       NaN\n",
            "b -0.959047  2.036098 -0.358200\n",
            "c  0.882666 -0.345923 -0.206472\n",
            "d       NaN  0.394628 -0.987622 \n",
            "Tiene como media en las columnas:\n",
            " one      0.309780\n",
            "two      0.432738\n",
            "three   -0.517432\n",
            "dtype: float64 \n",
            "y en las filas:\n",
            " a    0.325936\n",
            "b    0.239617\n",
            "c    0.110090\n",
            "d   -0.296497\n",
            "dtype: float64\n"
          ]
        }
      ]
    },
    {
      "cell_type": "code",
      "source": [
        "\"\"\"\n",
        "El tipo de return de la función pasada apply() afecta el tipo de final output\n",
        "de DataFrame.apply debido al comportamiento por default:\n",
        "1. Si la función aplicada retorna una Series, el final output es un DataFrame. \n",
        "Las columnas coinciden con el índice Seriesdevuelto por la función aplicada.\n",
        "2. Si la función aplicada devuelve cualquier otro tipo el final output es un\n",
        "Series.\n",
        "Este comportamiento predeterminado se puede anular utilizando result_type, \n",
        "que acepta tres opciones: reduce, broadcasty expand. Estos determinarán \n",
        "cómo los valores devueltos de los Me gusta de la lista se expanden (o no)\n",
        "a un archivo DataFrame\n",
        "\"\"\""
      ],
      "metadata": {
        "colab": {
          "base_uri": "https://localhost:8080/",
          "height": 88
        },
        "id": "Ig-kcWNNf_vl",
        "outputId": "e97f6c74-951b-4a95-b244-8fd78c9abf20"
      },
      "execution_count": 7,
      "outputs": [
        {
          "output_type": "execute_result",
          "data": {
            "text/plain": [
              "'\\nEl tipo de return de la función pasada apply() afecta el tipo de final output\\nde DataFrame.apply debido al comportamiento por default:\\n1. Si la función aplicada retorna una Series, el final output es un DataFrame. \\nLas columnas coinciden con el índice Seriesdevuelto por la función aplicada.\\n2. Si la función aplicada devuelve cualquier otro tipo el final output es un\\nSeries.\\nEste comportamiento predeterminado se puede anular utilizando result_type, \\nque acepta tres opciones: reduce, broadcasty expand. Estos determinarán \\ncómo los valores devueltos de los Me gusta de la lista se expanden (o no)\\na un archivo DataFrame\\n'"
            ],
            "application/vnd.google.colaboratory.intrinsic+json": {
              "type": "string"
            }
          },
          "metadata": {},
          "execution_count": 7
        }
      ]
    },
    {
      "cell_type": "code",
      "source": [
        "\"\"\"apply()combinado con algo de inteligencia se puede utilizar para responder \n",
        "muchas preguntas sobre un conjunto de datos.\n",
        "Por ejemplo, supongamos que quisiéramos extraer la fecha en la que se \n",
        "produjo el valor máximo de cada columna:\n",
        "\"\"\"\n",
        "\n",
        "#Creamos un DataFrame con fechas periodicas y datos Random\n",
        "tsdf = pd.DataFrame(\n",
        "    np.random.randn(1000, 3),\n",
        "    columns=[\"A\", \"B\", \"C\"],\n",
        "    index=pd.date_range(\"1/1/2000\", periods=1000),\n",
        ")\n",
        "\n",
        "#Usamos apply con una función\n",
        "print(\"La fecha donde se consiguió el mayor valor es:\\n\",\n",
        "      tsdf.apply(lambda x: x.idxmax()))\n"
      ],
      "metadata": {
        "colab": {
          "base_uri": "https://localhost:8080/"
        },
        "id": "897AcmtxiXB8",
        "outputId": "c55c28a9-a71f-44fe-a10d-91e9993c24bd"
      },
      "execution_count": 8,
      "outputs": [
        {
          "output_type": "stream",
          "name": "stdout",
          "text": [
            "La fecha donde se consiguió el mayor valor es:\n",
            " A   2001-12-25\n",
            "B   2001-08-15\n",
            "C   2000-10-16\n",
            "dtype: datetime64[ns]\n"
          ]
        }
      ]
    },
    {
      "cell_type": "code",
      "source": [
        "\"\"\"\n",
        "También puede pasar argumentos adicionales y argumentos de palabras clave \n",
        "al apply() método. Por ejemplo, considere la siguiente función que le\n",
        "gustaría aplicar:\n",
        "\"\"\"\n",
        "\n",
        "#Creamos una función\n",
        "def subtract_and_divide(x, sub, divide=1):\n",
        "    return (x - sub) / divide\n",
        "\n",
        "print(\"\",\n",
        "      df,\n",
        "      \"\\n\",\n",
        "      df.apply(subtract_and_divide, args=(5,), divide=3))"
      ],
      "metadata": {
        "colab": {
          "base_uri": "https://localhost:8080/"
        },
        "id": "6EQPjo5jjNcV",
        "outputId": "b9f3d917-cefc-4da1-b617-2c63396b9597"
      },
      "execution_count": 9,
      "outputs": [
        {
          "output_type": "stream",
          "name": "stdout",
          "text": [
            "         one       two     three\n",
            "a  1.005722 -0.353850       NaN\n",
            "b -0.959047  2.036098 -0.358200\n",
            "c  0.882666 -0.345923 -0.206472\n",
            "d       NaN  0.394628 -0.987622 \n",
            "         one       two     three\n",
            "a -1.331426 -1.784617       NaN\n",
            "b -1.986349 -0.987967 -1.786067\n",
            "c -1.372445 -1.781974 -1.735491\n",
            "d       NaN -1.535124 -1.995874\n"
          ]
        }
      ]
    },
    {
      "cell_type": "code",
      "source": [
        "\"\"\"\n",
        "Otra característica útil es la capacidad de pasar métodos de Serie para\n",
        "realizar alguna operación de Serie en cada columna o fila:\n",
        "\"\"\"\n",
        "\n",
        "print(tsdf)\n",
        "\n",
        "print(tsdf.apply(pd.Series.interpolate))"
      ],
      "metadata": {
        "colab": {
          "base_uri": "https://localhost:8080/"
        },
        "id": "9EKnQYHHk8p8",
        "outputId": "b451dfe0-0353-4517-80d2-d44edbc111dd"
      },
      "execution_count": 10,
      "outputs": [
        {
          "output_type": "stream",
          "name": "stdout",
          "text": [
            "                   A         B         C\n",
            "2000-01-01 -0.264000 -0.814455 -0.160662\n",
            "2000-01-02 -0.496118  0.218767 -0.194892\n",
            "2000-01-03 -0.170733 -0.439882 -0.795839\n",
            "2000-01-04 -0.723087  0.656543 -1.566010\n",
            "2000-01-05  0.286292  1.129970  1.564329\n",
            "...              ...       ...       ...\n",
            "2002-09-22  0.714371 -0.110247  1.697705\n",
            "2002-09-23 -0.434942  0.771638 -0.249206\n",
            "2002-09-24  0.358854 -1.157790 -1.480355\n",
            "2002-09-25  0.511647  0.583930 -1.602569\n",
            "2002-09-26 -0.597575 -0.135776  1.265401\n",
            "\n",
            "[1000 rows x 3 columns]\n",
            "                   A         B         C\n",
            "2000-01-01 -0.264000 -0.814455 -0.160662\n",
            "2000-01-02 -0.496118  0.218767 -0.194892\n",
            "2000-01-03 -0.170733 -0.439882 -0.795839\n",
            "2000-01-04 -0.723087  0.656543 -1.566010\n",
            "2000-01-05  0.286292  1.129970  1.564329\n",
            "...              ...       ...       ...\n",
            "2002-09-22  0.714371 -0.110247  1.697705\n",
            "2002-09-23 -0.434942  0.771638 -0.249206\n",
            "2002-09-24  0.358854 -1.157790 -1.480355\n",
            "2002-09-25  0.511647  0.583930 -1.602569\n",
            "2002-09-26 -0.597575 -0.135776  1.265401\n",
            "\n",
            "[1000 rows x 3 columns]\n"
          ]
        }
      ]
    },
    {
      "cell_type": "code",
      "source": [
        "\"\"\"\n",
        "Agregattion API\n",
        "Es el siguiente tema en la lista.\n",
        "La agregattion API permite expresar posibles agregaciones en un camino\n",
        "sencillo conciso. Esta API es similar a través de los objetos pandas. \n",
        "EL punto de entrada para la agregación es DataFrame.aggregate() o el alias\n",
        "DataFrame.agg().\n",
        "\"\"\"\n",
        "\n",
        "#Usaremos un objeto como el de la celda anterior\n",
        "tsdf = pd.DataFrame(\n",
        "    np.random.randn(10, 3),\n",
        "    columns=[\"A\", \"B\", \"C\"],\n",
        "    index=pd.date_range(\"1/1/2000\", periods=10),\n",
        ")\n",
        "\n",
        "#Ahora hacemos algunos datos NAN\n",
        "tsdf.iloc[3:7] = np.nan\n",
        "\n",
        "#Veamos\n",
        "print(tsdf)\n",
        "\n",
        "#Si usamos una función simple es equivalente a apply()\n",
        "#De igual forma se puede usar strings, se devolvera una Serie\n",
        "\n",
        "print(\"\\n\\nUsando np.sum:\\n\",\n",
        "      tsdf.agg(np.sum),\n",
        "      \"\\nLo mismo se obtiene usando el string sum\\n\",\n",
        "      tsdf.agg(\"sum\"),\n",
        "      \"\\nPor supuesto esto es igual a usar el método sum ya que es una función simple\\n\",\n",
        "      tsdf.sum())\n",
        "\n",
        "#Por otro lado, las agg en una Serie devuelve un valor escalar\n",
        "print(\"\\n\\nUsando agg(sum) a la columna A:\\n\",\n",
        "      tsdf[\"A\"].agg(np.sum))"
      ],
      "metadata": {
        "colab": {
          "base_uri": "https://localhost:8080/"
        },
        "id": "tzLid17N0Yng",
        "outputId": "a3eed13e-1e7f-4c82-8ee4-9ff08c46401e"
      },
      "execution_count": 11,
      "outputs": [
        {
          "output_type": "stream",
          "name": "stdout",
          "text": [
            "                   A         B         C\n",
            "2000-01-01  1.722032 -1.144017 -0.429923\n",
            "2000-01-02 -0.560357 -0.897058  0.948375\n",
            "2000-01-03 -1.654620  1.350301  0.641538\n",
            "2000-01-04       NaN       NaN       NaN\n",
            "2000-01-05       NaN       NaN       NaN\n",
            "2000-01-06       NaN       NaN       NaN\n",
            "2000-01-07       NaN       NaN       NaN\n",
            "2000-01-08 -0.364400  0.495416 -1.327602\n",
            "2000-01-09  1.012311  1.387705 -0.817826\n",
            "2000-01-10  0.056237  1.257779 -0.722530\n",
            "\n",
            "\n",
            "Usando np.sum:\n",
            " A    0.211203\n",
            "B    2.450127\n",
            "C   -1.707968\n",
            "dtype: float64 \n",
            "Lo mismo se obtiene usando el string sum\n",
            " A    0.211203\n",
            "B    2.450127\n",
            "C   -1.707968\n",
            "dtype: float64 \n",
            "Por supuesto esto es igual a usar el método sum ya que es una función simple\n",
            " A    0.211203\n",
            "B    2.450127\n",
            "C   -1.707968\n",
            "dtype: float64\n",
            "\n",
            "\n",
            "Usando agg(sum) a la columna A:\n",
            " 0.2112026619787705\n"
          ]
        }
      ]
    },
    {
      "cell_type": "code",
      "source": [
        "\"\"\"\n",
        "Aggregating con multiples funciones \n",
        "Hasta ahora lo que hemos visto con agg no hay diferencia usando apply.\n",
        "Sin embargo, podemos agregar multiples funciones como argumento en una\n",
        "lista. El resultado devolvera un row para cada función aplicada, con el \n",
        "nombre de la función por supuesto.\n",
        "\"\"\"\n",
        "\n",
        "print(\"La suma del DataFrame usando las funciones como argumentos en uns lista:\\n\",\n",
        "      tsdf.agg([np.sum]),\n",
        "      \"\\nAhora bien, agregamos el promedio:\\n\",\n",
        "      tsdf.agg([\"sum\",\"mean\"]),\n",
        "      \"\\nel resultado son multiples rows\")\n",
        "\n",
        "#En Series, agg devuelve una Series, indexado por el nombre de las funciones\n",
        "print(\"\\n\\La suma y promedio de la columna A es:\\n\",\n",
        "      tsdf[\"A\"].agg([\"sum\",\"mean\"]))\n",
        "\n",
        "#Usar una función lambda, arrojará un <lambda> fila \n",
        "print(\"\\n\\nRepitiendo el cálculo anterior pero con funcion lambda:\\n\",\n",
        "      tsdf[\"A\"].agg([\"sum\", lambda x: x.mean()]))\n",
        "\n",
        "#También, si definimos una función con nombre, ese se utilizara en la fila\n",
        "def mymean(x):\n",
        "    return x.mean()\n",
        "\n",
        "print(\"\\n\\nUsando la nueva función definida\\n:\",\n",
        "      tsdf[\"A\"].agg([\"sum\", mymean]))"
      ],
      "metadata": {
        "colab": {
          "base_uri": "https://localhost:8080/"
        },
        "id": "vlLS8uDR6qjU",
        "outputId": "836a4f42-aeba-4c63-95ef-b6c173a433b5"
      },
      "execution_count": 12,
      "outputs": [
        {
          "output_type": "stream",
          "name": "stdout",
          "text": [
            "La suma del DataFrame usando las funciones como argumentos en uns lista:\n",
            "             A         B         C\n",
            "sum  0.211203  2.450127 -1.707968 \n",
            "Ahora bien, agregamos el promedio:\n",
            "              A         B         C\n",
            "sum   0.211203  2.450127 -1.707968\n",
            "mean  0.035200  0.408354 -0.284661 \n",
            "el resultado son multiples rows\n",
            "\n",
            "\\La suma y promedio de la columna A es:\n",
            " sum     0.211203\n",
            "mean    0.035200\n",
            "Name: A, dtype: float64\n",
            "\n",
            "\n",
            "Repitiendo el cálculo anterior pero con funcion lambda:\n",
            " sum         0.211203\n",
            "<lambda>    0.035200\n",
            "Name: A, dtype: float64\n",
            "\n",
            "\n",
            "Usando la nueva función definida\n",
            ": sum       0.211203\n",
            "mymean    0.035200\n",
            "Name: A, dtype: float64\n"
          ]
        }
      ]
    },
    {
      "cell_type": "code",
      "source": [
        "\"\"\"\n",
        "Aggregating con dict\n",
        "Usando un diccionario de nombres de columna a un escalar o lista de escalares,\n",
        "en un DataFrame podemos customizar cuales funciones se aplican a las columnas\n",
        "\"\"\"\n",
        "\n",
        "print(\"A continuación se le aplica el promedio a la columna A y la suma a la B\\n\",\n",
        "      tsdf.agg({\"A\": \"mean\", \"B\": \"sum\"}))\n",
        "\n",
        "#Se puede usar una lista para obtener un DataFrame de salida.\n",
        "#Se obtendra una especie de matriz de todas las funciones agregadas\n",
        "\n",
        "print(\"\\n\\nSe aplican distintas funciones a las columnas:\\n\",\n",
        "      tsdf.agg({\"A\": [\"mean\", \"min\"], \"B\": \"sum\"}),\n",
        "      \"\\nNótese que las columnas se mantienen pero en los index se colocan las\\nfunciones utilizadas. Para aquellas funciones que no se aplican\\na las columnas se colocan un valor vacio.\")"
      ],
      "metadata": {
        "colab": {
          "base_uri": "https://localhost:8080/"
        },
        "id": "DKbZRqYlhkAM",
        "outputId": "9d46c94c-3395-4dc5-9413-6a5b54d2060d"
      },
      "execution_count": 13,
      "outputs": [
        {
          "output_type": "stream",
          "name": "stdout",
          "text": [
            "A continuación se le aplica el promedio a la columna A y la suma a la B\n",
            " A    0.035200\n",
            "B    2.450127\n",
            "dtype: float64\n",
            "\n",
            "\n",
            "Se aplican distintas funciones a las columnas:\n",
            "             A         B\n",
            "mean  0.03520       NaN\n",
            "min  -1.65462       NaN\n",
            "sum       NaN  2.450127 \n",
            "Nótese que las columnas se mantienen pero en los index se colocan las\n",
            "funciones utilizadas. Para aquellas funciones que no se aplican\n",
            "a las columnas se colocan un valor vacio.\n"
          ]
        }
      ]
    },
    {
      "cell_type": "code",
      "source": [
        "\"\"\"\n",
        "Mixed dtypes\n",
        "Cuando tenemos un objeto de una combinación de dtypes no se puede\n",
        "agregar, .agg() solo tomara las aggregations validas.\n",
        "\"\"\"\n",
        "\n",
        "#Creamos un DataFrame de una combinación de dtypes\n",
        "mdf = pd.DataFrame(\n",
        "    {\n",
        "        \"A\": [1, 2, 3],\n",
        "        \"B\": [1.0, 2.0, 3.0],\n",
        "        \"C\": [\"foo\", \"bar\", \"baz\"],\n",
        "        \"D\": pd.date_range(\"20130101\", periods=3),\n",
        "    }\n",
        ")\n",
        "\n",
        "#Obtenemos el tipo de datos que son\n",
        "print(\"El DataFrame:\\n\",\n",
        "      mdf,\n",
        "      \"\\nTiene los siguientes tipos de datos:\\n\",\n",
        "      mdf.dtypes)\n",
        "\n",
        "#Podemos agregar algunas funciones consideradas validas\n",
        "print(\"\\n\\nPodemos obtener el mínimo y la suma:\\n\",\n",
        "      mdf.agg([\"min\", \"sum\"]),\n",
        "      \"\\n\\nNótese que la columna C no tiene un mínimo sin embargo agg coloca uno.\\nPor otro lado, en la suma, vemos que la columna C coloca todos los objetos\\njuntos, mientras que en la columna D no se puede sumar.\")"
      ],
      "metadata": {
        "colab": {
          "base_uri": "https://localhost:8080/"
        },
        "id": "mcitS3a0sLz1",
        "outputId": "429a0ea4-f523-41b4-edb3-08f56f46506f"
      },
      "execution_count": 14,
      "outputs": [
        {
          "output_type": "stream",
          "name": "stdout",
          "text": [
            "El DataFrame:\n",
            "    A    B    C          D\n",
            "0  1  1.0  foo 2013-01-01\n",
            "1  2  2.0  bar 2013-01-02\n",
            "2  3  3.0  baz 2013-01-03 \n",
            "Tiene los siguientes tipos de datos:\n",
            " A             int64\n",
            "B           float64\n",
            "C            object\n",
            "D    datetime64[ns]\n",
            "dtype: object\n",
            "\n",
            "\n",
            "Podemos obtener el mínimo y la suma:\n",
            "      A    B          C          D\n",
            "min  1  1.0        bar 2013-01-01\n",
            "sum  6  6.0  foobarbaz        NaT \n",
            "\n",
            "Nótese que la columna C no tiene un mínimo sin embargo agg coloca uno.\n",
            "Por otro lado, en la suma, vemos que la columna C coloca todos los objetos\n",
            "juntos, mientras que en la columna D no se puede sumar.\n"
          ]
        }
      ]
    },
    {
      "cell_type": "code",
      "source": [
        "\"\"\"\n",
        "Custom Describe\n",
        "Con .agg() es facilmente posible crear una customización de funciones\n",
        "descriptivas.\n",
        "\"\"\"\n",
        "\n",
        "from functools import partial\n",
        "\n",
        "#Con el siguiente comando obtenemos el 25% de los datos\n",
        "q_25 = partial(pd.Series.quantile, q=0.25)\n",
        "\n",
        "q_25.__name__ = \"25%\"\n",
        "\n",
        "#Y con este el 75%\n",
        "q_75 = partial(pd.Series.quantile, q=0.75)\n",
        "\n",
        "q_75.__name__ = \"75%\"\n",
        "\n",
        "print(\"La descripción customizada usando agg es:\\n\",\n",
        "      tsdf.agg([\"count\", \"mean\", \"std\", \"min\", q_25, \"median\", q_75, \"max\"]))\n"
      ],
      "metadata": {
        "colab": {
          "base_uri": "https://localhost:8080/"
        },
        "id": "zV8-AE_Dw98_",
        "outputId": "64fd8c2c-77ef-4a90-caf7-e391e9815f8c"
      },
      "execution_count": 15,
      "outputs": [
        {
          "output_type": "stream",
          "name": "stdout",
          "text": [
            "La descripción customizada usando agg es:\n",
            "                A         B         C\n",
            "count   6.000000  6.000000  6.000000\n",
            "mean    0.035200  0.408354 -0.284661\n",
            "std     1.197535  1.156672  0.890286\n",
            "min    -1.654620 -1.144017 -1.327602\n",
            "25%    -0.511368 -0.548939 -0.794002\n",
            "median -0.154081  0.876598 -0.576226\n",
            "75%     0.773292  1.327171  0.373673\n",
            "max     1.722032  1.387705  0.948375\n"
          ]
        }
      ]
    },
    {
      "cell_type": "code",
      "source": [
        "\"\"\"\n",
        "Transfor API\n",
        "Es el siguiente tema por ver.\n",
        "El metodo transform() retorna  un objeto que es indexado igual (del mismo)\n",
        "tamaño que el objeto de entrada. Este API permite proveer de multiples \n",
        "operaciones al mismo tiempo hechos one by one. \n",
        "\"\"\"\n",
        "\n",
        "#Creamos otro DataFrame \n",
        "sdf = pd.DataFrame(\n",
        "    np.random.randn(10, 3),\n",
        "    columns=[\"A\", \"B\", \"C\"],\n",
        "    index=pd.date_range(\"1/1/2000\", periods=10),\n",
        ")\n",
        "\n",
        "#Colocamos algunos datos vacios\n",
        "tsdf.iloc[3:7] = np.nan\n",
        "\n",
        "print(\"Tenemos un DataFrame con algunos valores vacios\\n\",\n",
        "      tsdf)\n",
        "\n",
        "#Transformar el frame entero permite usar funciones Numpy, strings,\n",
        "#o una función definida.\n",
        "print(\"\\n\\nPodemos obtener del frame su valor absoluto:\\n\",\n",
        "      tsdf.transform(np.abs),\n",
        "      \"\\néste se realizo usando np.abs, tambien se\\npuede con el string abs\\n\",\n",
        "      tsdf.transform(\"abs\"),\n",
        "      \"\\nfinalmente se usa una función lambda para \\nobtener el valor absoluto del frame\\n\",\n",
        "      tsdf.transform(lambda x: x.abs()))"
      ],
      "metadata": {
        "colab": {
          "base_uri": "https://localhost:8080/"
        },
        "id": "0ZhRieum1xyX",
        "outputId": "42997338-ac0c-4d37-bfc1-d509a3cfcde1"
      },
      "execution_count": 16,
      "outputs": [
        {
          "output_type": "stream",
          "name": "stdout",
          "text": [
            "Tenemos un DataFrame con algunos valores vacios\n",
            "                    A         B         C\n",
            "2000-01-01  1.722032 -1.144017 -0.429923\n",
            "2000-01-02 -0.560357 -0.897058  0.948375\n",
            "2000-01-03 -1.654620  1.350301  0.641538\n",
            "2000-01-04       NaN       NaN       NaN\n",
            "2000-01-05       NaN       NaN       NaN\n",
            "2000-01-06       NaN       NaN       NaN\n",
            "2000-01-07       NaN       NaN       NaN\n",
            "2000-01-08 -0.364400  0.495416 -1.327602\n",
            "2000-01-09  1.012311  1.387705 -0.817826\n",
            "2000-01-10  0.056237  1.257779 -0.722530\n",
            "\n",
            "\n",
            "Podemos obtener del frame su valor absoluto:\n",
            "                    A         B         C\n",
            "2000-01-01  1.722032  1.144017  0.429923\n",
            "2000-01-02  0.560357  0.897058  0.948375\n",
            "2000-01-03  1.654620  1.350301  0.641538\n",
            "2000-01-04       NaN       NaN       NaN\n",
            "2000-01-05       NaN       NaN       NaN\n",
            "2000-01-06       NaN       NaN       NaN\n",
            "2000-01-07       NaN       NaN       NaN\n",
            "2000-01-08  0.364400  0.495416  1.327602\n",
            "2000-01-09  1.012311  1.387705  0.817826\n",
            "2000-01-10  0.056237  1.257779  0.722530 \n",
            "éste se realizo usando np.abs, tambien se\n",
            "puede con el string abs\n",
            "                    A         B         C\n",
            "2000-01-01  1.722032  1.144017  0.429923\n",
            "2000-01-02  0.560357  0.897058  0.948375\n",
            "2000-01-03  1.654620  1.350301  0.641538\n",
            "2000-01-04       NaN       NaN       NaN\n",
            "2000-01-05       NaN       NaN       NaN\n",
            "2000-01-06       NaN       NaN       NaN\n",
            "2000-01-07       NaN       NaN       NaN\n",
            "2000-01-08  0.364400  0.495416  1.327602\n",
            "2000-01-09  1.012311  1.387705  0.817826\n",
            "2000-01-10  0.056237  1.257779  0.722530 \n",
            "finalmente se usa una función lambda para \n",
            "obtener el valor absoluto del frame\n",
            "                    A         B         C\n",
            "2000-01-01  1.722032  1.144017  0.429923\n",
            "2000-01-02  0.560357  0.897058  0.948375\n",
            "2000-01-03  1.654620  1.350301  0.641538\n",
            "2000-01-04       NaN       NaN       NaN\n",
            "2000-01-05       NaN       NaN       NaN\n",
            "2000-01-06       NaN       NaN       NaN\n",
            "2000-01-07       NaN       NaN       NaN\n",
            "2000-01-08  0.364400  0.495416  1.327602\n",
            "2000-01-09  1.012311  1.387705  0.817826\n",
            "2000-01-10  0.056237  1.257779  0.722530\n"
          ]
        }
      ]
    },
    {
      "cell_type": "code",
      "source": [
        "\"\"\"\n",
        "aquí transform recibe una funcion simple, lo que es equivalente a \n",
        "una aplicacion ufunc\n",
        "\"\"\"\n",
        "\n",
        "#Se aplica la ufunc\n",
        "print(\"Seguimos con el valor absoluto, esta vez aplicando ufunc:\\n\",np.abs(tsdf))\n",
        "\n",
        "#Si transformamos una serie devuelve una Serie\n",
        "print(\"\\n\\nObtenemos el valor absoluto de la columna C usando transform:\\n\",\n",
        "      tsdf[\"C\"].transform((\"abs\")))"
      ],
      "metadata": {
        "colab": {
          "base_uri": "https://localhost:8080/"
        },
        "id": "BO3HJxuy-LoJ",
        "outputId": "4145ff5d-c963-4053-c856-8091d914c586"
      },
      "execution_count": 17,
      "outputs": [
        {
          "output_type": "stream",
          "name": "stdout",
          "text": [
            "Seguimos con el valor absoluto, esta vez aplicando ufunc:\n",
            "                    A         B         C\n",
            "2000-01-01  1.722032  1.144017  0.429923\n",
            "2000-01-02  0.560357  0.897058  0.948375\n",
            "2000-01-03  1.654620  1.350301  0.641538\n",
            "2000-01-04       NaN       NaN       NaN\n",
            "2000-01-05       NaN       NaN       NaN\n",
            "2000-01-06       NaN       NaN       NaN\n",
            "2000-01-07       NaN       NaN       NaN\n",
            "2000-01-08  0.364400  0.495416  1.327602\n",
            "2000-01-09  1.012311  1.387705  0.817826\n",
            "2000-01-10  0.056237  1.257779  0.722530\n",
            "\n",
            "\n",
            "Obtenemos el valor absoluto de la columna C usando transform:\n",
            " 2000-01-01    0.429923\n",
            "2000-01-02    0.948375\n",
            "2000-01-03    0.641538\n",
            "2000-01-04         NaN\n",
            "2000-01-05         NaN\n",
            "2000-01-06         NaN\n",
            "2000-01-07         NaN\n",
            "2000-01-08    1.327602\n",
            "2000-01-09    0.817826\n",
            "2000-01-10    0.722530\n",
            "Freq: D, Name: C, dtype: float64\n"
          ]
        }
      ]
    },
    {
      "cell_type": "code",
      "source": [
        "\"\"\"\n",
        "Transform con multiples funciones\n",
        "Usar multiples funciones producira un DataFrame multiindexado. El primer \n",
        "nivel contendrá los nombres de las columnas originales, y el segundo \n",
        "el nombre de las funciones aplicadas.\n",
        "\"\"\"\n",
        "\n",
        "#A continuación se usará transform con multiples funciones, las cuales \n",
        "#serán una combinación de las ya vistas\n",
        "print(\"Al frame ya usado con anterioridad se le aplican dos funciones:\\n\",\n",
        "      tsdf.transform([np.abs, lambda x: x + 1]))\n",
        "\n",
        "#Usar multiples funciones en una Serie producirá un DataFrame, cuyas \n",
        "#columnas llevan por nombre la función\n",
        "print(\"\\n\\nAplicamos a la columna a tres funciones distintas:\\n\",\n",
        "      tsdf[\"A\"].transform([np.cos,\"abs\", lambda x: x**2]))"
      ],
      "metadata": {
        "colab": {
          "base_uri": "https://localhost:8080/"
        },
        "id": "eODRnDjRKKMF",
        "outputId": "67f32f75-1d38-4450-fb6f-88dcd889f0ea"
      },
      "execution_count": 26,
      "outputs": [
        {
          "output_type": "stream",
          "name": "stdout",
          "text": [
            "Al frame ya usado con anterioridad se le aplican dos funciones:\n",
            "                    A                   B                   C          \n",
            "            absolute  <lambda>  absolute  <lambda>  absolute  <lambda>\n",
            "2000-01-01  1.722032  2.722032  1.144017 -0.144017  0.429923  0.570077\n",
            "2000-01-02  0.560357  0.439643  0.897058  0.102942  0.948375  1.948375\n",
            "2000-01-03  1.654620 -0.654620  1.350301  2.350301  0.641538  1.641538\n",
            "2000-01-04       NaN       NaN       NaN       NaN       NaN       NaN\n",
            "2000-01-05       NaN       NaN       NaN       NaN       NaN       NaN\n",
            "2000-01-06       NaN       NaN       NaN       NaN       NaN       NaN\n",
            "2000-01-07       NaN       NaN       NaN       NaN       NaN       NaN\n",
            "2000-01-08  0.364400  0.635600  0.495416  1.495416  1.327602 -0.327602\n",
            "2000-01-09  1.012311  2.012311  1.387705  2.387705  0.817826  0.182174\n",
            "2000-01-10  0.056237  1.056237  1.257779  2.257779  0.722530  0.277470\n",
            "\n",
            "\n",
            "Aplicamos a la columna a tres funciones distintas:\n",
            "                  cos       abs  <lambda>\n",
            "2000-01-01 -0.150659  1.722032  2.965393\n",
            "2000-01-02  0.847066  0.560357  0.314000\n",
            "2000-01-03 -0.083726  1.654620  2.737768\n",
            "2000-01-04       NaN       NaN       NaN\n",
            "2000-01-05       NaN       NaN       NaN\n",
            "2000-01-06       NaN       NaN       NaN\n",
            "2000-01-07       NaN       NaN       NaN\n",
            "2000-01-08  0.934338  0.364400  0.132787\n",
            "2000-01-09  0.529902  1.012311  1.024773\n",
            "2000-01-10  0.998419  0.056237  0.003163\n"
          ]
        }
      ]
    },
    {
      "cell_type": "code",
      "source": [
        "\"\"\"\n",
        "Transforming con dict\n",
        "Para finalizar la parte de transform veremos que podemos ser selectivos\n",
        "con las funciones aplicadas a las columnas si usamos un diccionario, es \n",
        "decir, si queremos que solo a la columna A se le aplique mean y a la B \n",
        "sum con dict se puede.\n",
        "\"\"\"\n",
        "\n",
        "print(\"A la columna A se le aplicará el coseno, mientras que a B el seno:\\n\",\n",
        "      tsdf.transform({\"A\":np.cos, \"B\":np.sin}))\n",
        "\n",
        "#Usando una lista en el dict, se genera un DataFrame multiindexado con las\n",
        "#transformaciones selectivas.\n",
        "\n",
        "print(\"\\n\\nSe aplica otra vez el coseno a la columna A\\ny a la B el seno y una función lambda que eleva al cuadrado:\\n\",\n",
        "      tsdf.transform({\"A\":np.cos, \"B\":[np.sin,lambda x: x**2]}))"
      ],
      "metadata": {
        "colab": {
          "base_uri": "https://localhost:8080/"
        },
        "id": "PONxmnowOcZN",
        "outputId": "0fbbdb2d-5811-4cb0-b0f5-8b782e5d5f95"
      },
      "execution_count": 31,
      "outputs": [
        {
          "output_type": "stream",
          "name": "stdout",
          "text": [
            "A la columna A se le aplicará el coseno, mientras que a B el seno:\n",
            "                    A         B\n",
            "2000-01-01 -0.150659 -0.910304\n",
            "2000-01-02  0.847066 -0.781495\n",
            "2000-01-03 -0.083726  0.975789\n",
            "2000-01-04       NaN       NaN\n",
            "2000-01-05       NaN       NaN\n",
            "2000-01-06       NaN       NaN\n",
            "2000-01-07       NaN       NaN\n",
            "2000-01-08  0.934338  0.475398\n",
            "2000-01-09  0.529902  0.983286\n",
            "2000-01-10  0.998419  0.951409\n",
            "\n",
            "\n",
            "Se aplica otra vez el coseno a la columna A\n",
            "y a la B el seno y una función lambda que eleva al cuadrado:\n",
            "                    A         B          \n",
            "                 cos       sin  <lambda>\n",
            "2000-01-01 -0.150659 -0.910304  1.308776\n",
            "2000-01-02  0.847066 -0.781495  0.804713\n",
            "2000-01-03 -0.083726  0.975789  1.823314\n",
            "2000-01-04       NaN       NaN       NaN\n",
            "2000-01-05       NaN       NaN       NaN\n",
            "2000-01-06       NaN       NaN       NaN\n",
            "2000-01-07       NaN       NaN       NaN\n",
            "2000-01-08  0.934338  0.475398  0.245437\n",
            "2000-01-09  0.529902  0.983286  1.925726\n",
            "2000-01-10  0.998419  0.951409  1.582008\n"
          ]
        }
      ]
    },
    {
      "cell_type": "code",
      "source": [
        "print(\"Es así como culminamos la tercer parte de funcionalidad\")"
      ],
      "metadata": {
        "colab": {
          "base_uri": "https://localhost:8080/"
        },
        "id": "ks-Y1E-TQuUA",
        "outputId": "2855e33a-0d3e-44e6-d62a-d60564936bce"
      },
      "execution_count": 32,
      "outputs": [
        {
          "output_type": "stream",
          "name": "stdout",
          "text": [
            "Es así como culminamos la tercer parte de funcionalidad\n"
          ]
        }
      ]
    }
  ]
}