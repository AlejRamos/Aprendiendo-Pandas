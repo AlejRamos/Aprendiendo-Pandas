{
  "nbformat": 4,
  "nbformat_minor": 0,
  "metadata": {
    "colab": {
      "name": "Series_Inicio",
      "provenance": [],
      "collapsed_sections": [],
      "authorship_tag": "ABX9TyOn7+y0P3uS9XRdx6MdfsbT",
      "include_colab_link": true
    },
    "kernelspec": {
      "name": "python3",
      "display_name": "Python 3"
    },
    "language_info": {
      "name": "python"
    }
  },
  "cells": [
    {
      "cell_type": "markdown",
      "metadata": {
        "id": "view-in-github",
        "colab_type": "text"
      },
      "source": [
        "<a href=\"https://colab.research.google.com/github/AlejRamos/Aprendiendo-Pandas/blob/main/Series_Inicio.ipynb\" target=\"_parent\"><img src=\"https://colab.research.google.com/assets/colab-badge.svg\" alt=\"Open In Colab\"/></a>"
      ]
    },
    {
      "cell_type": "code",
      "execution_count": 1,
      "metadata": {
        "id": "I5XVPQAEWbWJ"
      },
      "outputs": [],
      "source": [
        "#Exportamos las librerias necesarias \n",
        "import pandas as pd\n",
        "import numpy as np"
      ]
    },
    {
      "cell_type": "code",
      "source": [
        "\"\"\"\n",
        "Series: Es una matriz etiquetada unidimensional capaz de contener cualquier \n",
        "tipo de dato. Las etiquetas de los ejes se denominan índices\n",
        "\"\"\"\n",
        "\n",
        "#serie = pd.Series(data, index=indice)\n",
        "pd.Series([1,2,45.2,3.1416,\"Hola\"], index=[\"a\",\"b\",\"c\",\"d\",\"e\"])\n",
        "\n"
      ],
      "metadata": {
        "id": "l2okwQshWgx0",
        "colab": {
          "base_uri": "https://localhost:8080/"
        },
        "outputId": "45807127-c1cf-47f0-bedf-d46359a95a42"
      },
      "execution_count": 2,
      "outputs": [
        {
          "output_type": "execute_result",
          "data": {
            "text/plain": [
              "a         1\n",
              "b         2\n",
              "c      45.2\n",
              "d    3.1416\n",
              "e      Hola\n",
              "dtype: object"
            ]
          },
          "metadata": {},
          "execution_count": 2
        }
      ]
    },
    {
      "cell_type": "code",
      "source": [
        "\"\"\"\n",
        "Data puede ser muchas cosas, e index son las etiquetas de los ejes.\n",
        "Se puede traer datos desde ndarray, en tal caso el índice debe tener la misma \n",
        "longitud de datos. En caso de no ponerse índices estos se ponen automaticamente.\n",
        "\"\"\"\n",
        "\n",
        "array = np.array([1,2,3,4])\n",
        "s2 = pd.Series(array)\n",
        "print(s2)\n",
        "\n",
        "pd.Series(np.random.rand(5))\n"
      ],
      "metadata": {
        "id": "DOpo9z9fd1t6",
        "colab": {
          "base_uri": "https://localhost:8080/"
        },
        "outputId": "34d8c234-3d7f-4820-9290-3d3229a3166b"
      },
      "execution_count": 3,
      "outputs": [
        {
          "output_type": "stream",
          "name": "stdout",
          "text": [
            "0    1\n",
            "1    2\n",
            "2    3\n",
            "3    4\n",
            "dtype: int64\n"
          ]
        },
        {
          "output_type": "execute_result",
          "data": {
            "text/plain": [
              "0    0.581534\n",
              "1    0.277926\n",
              "2    0.504290\n",
              "3    0.486154\n",
              "4    0.425388\n",
              "dtype: float64"
            ]
          },
          "metadata": {},
          "execution_count": 3
        }
      ]
    },
    {
      "cell_type": "code",
      "source": [
        "\"\"\"\n",
        "De dicatos. Se puedeb crear instancias de series a parti de dictados \n",
        "\"\"\"\n",
        "\n",
        "d = {\"a\":1, \"b\": 3.1416, \"c\":\"azucar\"}\n",
        "pd.Series(d)\n"
      ],
      "metadata": {
        "id": "0IprQkf9evJU",
        "colab": {
          "base_uri": "https://localhost:8080/"
        },
        "outputId": "ca96fd4a-7255-4197-82dc-a6f4bbfe1599"
      },
      "execution_count": 4,
      "outputs": [
        {
          "output_type": "execute_result",
          "data": {
            "text/plain": [
              "a         1\n",
              "b    3.1416\n",
              "c    azucar\n",
              "dtype: object"
            ]
          },
          "metadata": {},
          "execution_count": 4
        }
      ]
    },
    {
      "cell_type": "code",
      "source": [
        "\"\"\"\n",
        "De valor escalar: Podemos hacer una serie de un valor escalar, se debe \n",
        "proporcionar un indice. El valor se repetira para que coincida con la longitud\n",
        "del indice\n",
        "\"\"\"\n",
        "ind = [\"a\",\"b\",\"c\"]\n",
        "pd.Series(5.0, index=ind)\n"
      ],
      "metadata": {
        "id": "WXe0jkrBiX1h",
        "colab": {
          "base_uri": "https://localhost:8080/"
        },
        "outputId": "7a98b1b1-ad62-41d1-d5ce-5b8d4cb2d0d6"
      },
      "execution_count": 5,
      "outputs": [
        {
          "output_type": "execute_result",
          "data": {
            "text/plain": [
              "a    5.0\n",
              "b    5.0\n",
              "c    5.0\n",
              "dtype: float64"
            ]
          },
          "metadata": {},
          "execution_count": 5
        }
      ]
    },
    {
      "cell_type": "code",
      "source": [
        "\"\"\"\n",
        "Series es similar a ndarray. Sin embargo operaciones como la división tambien dividirá el indice\n",
        "\"\"\"\n",
        "serie = pd.Series([1,2,3,4,5,6,7,8,9])\n",
        "serie1 = pd.Series([1,2,3,4,5,6,7,8,9],index=[\"a\",\"b\",\"c\",\"d\",\"e\",\"f\",\"g\",\"h\",\"i\"])\n",
        "\n",
        "valorn = serie[0:5] #Extrae los elemnos desde 0 a 4\n",
        "valornesimo = serie[1:2] # Extrae los elementos de 1\n",
        "valor = serie[4] #Extrae el elemento 4 sin índice, \n",
        "valor1 = serie1[\"c\"] #Si las etiquetas son strings mandamos a traer con la etiqueta\n",
        "\n",
        "print(valorn)\n",
        "print(valornesimo)\n",
        "print(valor)\n",
        "print(valor1)\n",
        "\n",
        "mult_escalar = 5*serie #Multiplica los datos por un escalar\n",
        "print(mult_escalar)\n",
        "\n",
        "suma_escalar = 2+serie #Suma a cada dato un escalar\n",
        "print(suma_escalar)\n",
        "\n"
      ],
      "metadata": {
        "colab": {
          "base_uri": "https://localhost:8080/"
        },
        "id": "i_quA9e0iyLp",
        "outputId": "295fe8f4-eea8-4b9a-99f4-b75b80bda907"
      },
      "execution_count": 12,
      "outputs": [
        {
          "output_type": "stream",
          "name": "stdout",
          "text": [
            "0    1\n",
            "1    2\n",
            "2    3\n",
            "3    4\n",
            "4    5\n",
            "dtype: int64\n",
            "1    2\n",
            "dtype: int64\n",
            "5\n",
            "3\n",
            "0     5\n",
            "1    10\n",
            "2    15\n",
            "3    20\n",
            "4    25\n",
            "5    30\n",
            "6    35\n",
            "7    40\n",
            "8    45\n",
            "dtype: int64\n",
            "0     3\n",
            "1     4\n",
            "2     5\n",
            "3     6\n",
            "4     7\n",
            "5     8\n",
            "6     9\n",
            "7    10\n",
            "8    11\n",
            "dtype: int64\n",
            "a   NaN\n",
            "b   NaN\n",
            "c   NaN\n",
            "d   NaN\n",
            "e   NaN\n",
            "f   NaN\n",
            "g   NaN\n",
            "h   NaN\n",
            "i   NaN\n",
            "0   NaN\n",
            "1   NaN\n",
            "2   NaN\n",
            "3   NaN\n",
            "4   NaN\n",
            "5   NaN\n",
            "6   NaN\n",
            "7   NaN\n",
            "8   NaN\n",
            "dtype: float64\n"
          ]
        }
      ]
    },
    {
      "cell_type": "code",
      "source": [
        "\"\"\"\n",
        "Series como ndarray. En caso de querer utilizar un ndarray\n",
        "\"\"\"\n",
        "np.exp(serie) #Saca la exponencial de los valores de la serie\n",
        "serie.dtype #Comando para saber que tipo de dato es la serie\n",
        "\n",
        "serie.array #Si queremos convertir en un array la serie, aqui ya la manejamos como vector\n",
        "serie1.to_numpy() #Lo convertimos en un array de numpy\n"
      ],
      "metadata": {
        "colab": {
          "base_uri": "https://localhost:8080/"
        },
        "id": "XaDaQEHPXBKL",
        "outputId": "e0431577-c4b5-4769-c4b8-fccc164ab27f"
      },
      "execution_count": 17,
      "outputs": [
        {
          "output_type": "execute_result",
          "data": {
            "text/plain": [
              "array([1, 2, 3, 4, 5, 6, 7, 8, 9])"
            ]
          },
          "metadata": {},
          "execution_count": 17
        }
      ]
    },
    {
      "cell_type": "code",
      "source": [
        "\"\"\"\n",
        "La serie es como un dictado, en el sentido que podemos reempazar algun dato, \n",
        "extraerlo, y otras operaciones con las etiquetas\n",
        "\"\"\"\n",
        "\n",
        "series2 = pd.Series([14,3.5,22],index=[\"x\",\"y\",\"z\"])\n",
        "print(series2)\n",
        "\n",
        "print(series2[\"y\"])\n",
        "series2[\"y\"] = 3.1416 #Cambia el elemento\n",
        "print(series2)\n",
        "\n",
        "\"e\" in series2 #Si no hay un índice existente en la serie arrojará falso\n",
        "\"z\" in series2 #Si existe el índice arroja verdadero\n",
        "#series2[\"a\"] #Si una etiqueta no está incluida se genera un error\n",
        "series2.get(\"f\") #Como es una etiqueta faltante arrojará nada\n",
        "series2.get(\"f\", 14) #Regresará el valor especidificado"
      ],
      "metadata": {
        "colab": {
          "base_uri": "https://localhost:8080/"
        },
        "id": "6NDWGUe7eMKg",
        "outputId": "3c46a88d-2667-4d05-a910-6619f3076ba3"
      },
      "execution_count": 29,
      "outputs": [
        {
          "output_type": "stream",
          "name": "stdout",
          "text": [
            "x    14.0\n",
            "y     3.5\n",
            "z    22.0\n",
            "dtype: float64\n",
            "3.5\n",
            "x    14.0000\n",
            "y     3.1416\n",
            "z    22.0000\n",
            "dtype: float64\n"
          ]
        },
        {
          "output_type": "execute_result",
          "data": {
            "text/plain": [
              "14"
            ]
          },
          "metadata": {},
          "execution_count": 29
        }
      ]
    },
    {
      "cell_type": "code",
      "source": [
        "\"\"\"\n",
        "Operaciones vectorizadas y Alineaciones de etiquetas\n",
        "Cuando se trabaja con series se puede pasar la mayoria a métodos numpy esperando un ndarray\n",
        "\"\"\"\n",
        "\n",
        "series2+series2 #Suma elemento a elemento, si las etiquetas son iguales\n",
        "\n",
        "\"\"\"\n",
        "una diferencia entre Series y ndarray es que las operaciones entre series \n",
        "alinean automaticamente los datos segun la etiqueta. Por lo tanto pueden \n",
        "escribirse cálculos sin tener en cuenta si las series involucradas tienen las\n",
        "mismas etiquetas\n",
        "\"\"\"\n",
        "\"\"\"\n",
        "El resultado de una operación entre Series no alineadas tendrá la unión de los \n",
        "índices implicados. Si una etiqueta no se encuentra en una serie u otra, el\n",
        "resultado se marcará como NaN que falta. Ser capaz de escribir código sin \n",
        "hacer ninguna alineación de datos explícita garantiza una inmensa libertad y \n",
        "flexibilidad en el análisis e investigación de datos interactivos. Las \n",
        "características integradas de alineación de datos de las estructuras de datos \n",
        "pandas distinguen a los pandas de la mayoría de las herramientas relacionadas \n",
        "para trabajar con datos etiquetados.\n",
        "\"\"\"\n",
        "\n",
        "series2[1:]+series2[:-1]\n",
        "\n",
        "\n"
      ],
      "metadata": {
        "colab": {
          "base_uri": "https://localhost:8080/"
        },
        "id": "iafycdEUgvTG",
        "outputId": "a7d47894-9d1c-4d5d-a05c-b8866dcbc3a2"
      },
      "execution_count": 37,
      "outputs": [
        {
          "output_type": "execute_result",
          "data": {
            "text/plain": [
              "x       NaN\n",
              "y    6.2832\n",
              "z       NaN\n",
              "dtype: float64"
            ]
          },
          "metadata": {},
          "execution_count": 37
        }
      ]
    },
    {
      "cell_type": "code",
      "source": [
        "\"\"\"\n",
        "Atributo de nombre: Podemos ponerle un nombre a la serie\n",
        "\"\"\"\n",
        "\n",
        "serie4 = pd.Series(np.random.randint(0,5,5), name=\"randomizando\")\n",
        "serie4\n",
        "serie4.name\n",
        "\n",
        "#Se puede renombrar\n",
        "s4 = serie4.rename(\"cambio\")\n",
        "s4\n",
        "\n",
        "#serie4 y s4 hacen referencia a distintos objetos"
      ],
      "metadata": {
        "colab": {
          "base_uri": "https://localhost:8080/"
        },
        "id": "Wt2iIoFvhc7s",
        "outputId": "430c7a0b-7543-4aa6-9384-a12cbb2afd1f"
      },
      "execution_count": 47,
      "outputs": [
        {
          "output_type": "execute_result",
          "data": {
            "text/plain": [
              "0    1\n",
              "1    1\n",
              "2    3\n",
              "3    1\n",
              "4    2\n",
              "Name: cambio, dtype: int64"
            ]
          },
          "metadata": {},
          "execution_count": 47
        }
      ]
    },
    {
      "cell_type": "code",
      "source": [
        ""
      ],
      "metadata": {
        "id": "TATeO-F2mBIW"
      },
      "execution_count": null,
      "outputs": []
    }
  ]
}