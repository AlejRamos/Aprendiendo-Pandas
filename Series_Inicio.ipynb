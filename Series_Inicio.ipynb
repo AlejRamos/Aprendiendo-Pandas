{
  "nbformat": 4,
  "nbformat_minor": 0,
  "metadata": {
    "colab": {
      "name": "Series_Inicio",
      "provenance": [],
      "authorship_tag": "ABX9TyNhpqwJdW695dzK8mhtK7Br",
      "include_colab_link": true
    },
    "kernelspec": {
      "name": "python3",
      "display_name": "Python 3"
    },
    "language_info": {
      "name": "python"
    }
  },
  "cells": [
    {
      "cell_type": "markdown",
      "metadata": {
        "id": "view-in-github",
        "colab_type": "text"
      },
      "source": [
        "<a href=\"https://colab.research.google.com/github/AlejRamos/Aprendiendo-Pandas/blob/main/Series_Inicio.ipynb\" target=\"_parent\"><img src=\"https://colab.research.google.com/assets/colab-badge.svg\" alt=\"Open In Colab\"/></a>"
      ]
    },
    {
      "cell_type": "code",
      "execution_count": 27,
      "metadata": {
        "id": "I5XVPQAEWbWJ"
      },
      "outputs": [],
      "source": [
        "#Exportamos las librerias necesarias \n",
        "import pandas as pd\n",
        "import numpy as np"
      ]
    },
    {
      "cell_type": "code",
      "source": [
        "\"\"\"\n",
        "Series: Es una matriz etiquetada unidimensional capaz de contener cualquier \n",
        "tipo de dato. Las etiquetas de los ejes se denominan índices\n",
        "\"\"\"\n",
        "\n",
        "#serie = pd.Series(data, index=indice)\n",
        "pd.Series([1,2,45.2,3.1416,\"Hola\"], index=[\"a\",\"b\",\"c\",\"d\",\"e\"])\n",
        "\n"
      ],
      "metadata": {
        "id": "l2okwQshWgx0"
      },
      "execution_count": null,
      "outputs": []
    },
    {
      "cell_type": "code",
      "source": [
        "\"\"\"\n",
        "Data puede ser muchas cosas, e index son las etiquetas de los ejes.\n",
        "Se puede traer datos desde ndarray, en tal caso el índice debe tener la misma \n",
        "longitud de datos. En caso de no ponerse índices estos se ponen automaticamente.\n",
        "\"\"\"\n",
        "\n",
        "array = np.array([1,2,3,4])\n",
        "s2 = pd.Series(array)\n",
        "print(s2)\n",
        "\n",
        "pd.Series(np.random.rand(5))\n"
      ],
      "metadata": {
        "id": "DOpo9z9fd1t6"
      },
      "execution_count": null,
      "outputs": []
    },
    {
      "cell_type": "code",
      "source": [
        "\"\"\"\n",
        "De dicatos. Se puedeb crear instancias de series a parti de dictados \n",
        "\"\"\"\n",
        "\n",
        "d = {\"a\":1, \"b\": 3.1416, \"c\":\"azucar\"}\n",
        "pd.Series(d)\n"
      ],
      "metadata": {
        "id": "0IprQkf9evJU"
      },
      "execution_count": null,
      "outputs": []
    },
    {
      "cell_type": "code",
      "source": [
        "\"\"\"\n",
        "De valor escalar: Podemos hacer una serie de un valor escalar, se debe \n",
        "proporcionar un indice. El valor se repetira para que coincida con la longitud\n",
        "del indice\n",
        "\"\"\"\n",
        "ind = [\"a\",\"b\",\"c\"]\n",
        "pd.Series(5.0, index=ind)"
      ],
      "metadata": {
        "id": "WXe0jkrBiX1h"
      },
      "execution_count": null,
      "outputs": []
    },
    {
      "cell_type": "code",
      "source": [
        "\"\"\"\n",
        "Series es similar a ndarray. Sin embargo operaciones como la división tambien dividirá el indice\n",
        "\"\"\"\n",
        "serie = pd.Series([1,2,3,4,5,6,7,8,9])\n",
        "\n",
        "valorn = serie[0:5] #Extrae los elemnos desde 0 a 4\n",
        "valornesimo = serie[1:2] # Extrae los elementos de 1\n",
        "valor = serie[4] #Extrae el elemento 4 sin índice\n",
        "\n",
        "print(valorn)\n",
        "print(valornesimo)\n",
        "print(valor)\n",
        "\n",
        "mult_escalar = 5*serie #Multiplica los datos por un escalar\n",
        "print(mult_escalar)\n",
        "\n",
        "suma_escalar = 2+serie #Suma a cada dato un escalar\n",
        "print(suma_escalar)"
      ],
      "metadata": {
        "colab": {
          "base_uri": "https://localhost:8080/"
        },
        "id": "i_quA9e0iyLp",
        "outputId": "1925ae39-9375-4e7b-9fe4-b0b89b5c774d"
      },
      "execution_count": 64,
      "outputs": [
        {
          "output_type": "stream",
          "name": "stdout",
          "text": [
            "0    1\n",
            "1    2\n",
            "2    3\n",
            "3    4\n",
            "4    5\n",
            "dtype: int64\n",
            "1    2\n",
            "dtype: int64\n",
            "5\n",
            "0     5\n",
            "1    10\n",
            "2    15\n",
            "3    20\n",
            "4    25\n",
            "5    30\n",
            "6    35\n",
            "7    40\n",
            "8    45\n",
            "dtype: int64\n",
            "0     3\n",
            "1     4\n",
            "2     5\n",
            "3     6\n",
            "4     7\n",
            "5     8\n",
            "6     9\n",
            "7    10\n",
            "8    11\n",
            "dtype: int64\n"
          ]
        }
      ]
    }
  ]
}